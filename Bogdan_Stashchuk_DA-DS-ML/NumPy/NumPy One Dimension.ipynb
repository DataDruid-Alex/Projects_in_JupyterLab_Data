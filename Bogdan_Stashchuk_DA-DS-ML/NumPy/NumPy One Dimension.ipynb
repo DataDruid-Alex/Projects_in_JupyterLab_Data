{
 "cells": [
  {
   "cell_type": "code",
   "execution_count": 2,
   "id": "dccbb8a7-9624-4669-b6d1-c64ca8e72461",
   "metadata": {},
   "outputs": [],
   "source": [
    "import numpy as np"
   ]
  },
  {
   "cell_type": "code",
   "execution_count": 3,
   "id": "159a184c-49ba-4536-a11a-df6f0a10816a",
   "metadata": {},
   "outputs": [
    {
     "data": {
      "text/plain": [
       "<module 'numpy' from 'C:\\\\Users\\\\satun\\\\Anaconda3\\\\lib\\\\site-packages\\\\numpy\\\\__init__.py'>"
      ]
     },
     "execution_count": 3,
     "metadata": {},
     "output_type": "execute_result"
    }
   ],
   "source": [
    "np"
   ]
  },
  {
   "cell_type": "code",
   "execution_count": 5,
   "id": "4803eb71-2aca-4558-b549-bff45e052e65",
   "metadata": {},
   "outputs": [
    {
     "data": {
      "text/plain": [
       "array([1, 2, 3, 4, 5])"
      ]
     },
     "execution_count": 5,
     "metadata": {},
     "output_type": "execute_result"
    }
   ],
   "source": [
    "nums_array = np.array((1,2,3,4,5))\n",
    "nums_array"
   ]
  },
  {
   "cell_type": "code",
   "execution_count": 6,
   "id": "7cf9d21a-c824-4c67-9931-5fd6397028b3",
   "metadata": {},
   "outputs": [
    {
     "data": {
      "text/plain": [
       "numpy.ndarray"
      ]
     },
     "execution_count": 6,
     "metadata": {},
     "output_type": "execute_result"
    }
   ],
   "source": [
    "type(nums_array)"
   ]
  },
  {
   "cell_type": "code",
   "execution_count": 7,
   "id": "ebe59a67-e4a0-4ddd-8706-ff466fffb8c3",
   "metadata": {},
   "outputs": [
    {
     "data": {
      "text/plain": [
       "type"
      ]
     },
     "execution_count": 7,
     "metadata": {},
     "output_type": "execute_result"
    }
   ],
   "source": [
    "type(numpy.ndarray)"
   ]
  },
  {
   "cell_type": "code",
   "execution_count": 8,
   "id": "115060eb-af3e-47bd-9ace-9ae8f037f035",
   "metadata": {},
   "outputs": [
    {
     "data": {
      "text/plain": [
       "1"
      ]
     },
     "execution_count": 8,
     "metadata": {},
     "output_type": "execute_result"
    }
   ],
   "source": [
    "nums_array[0]"
   ]
  },
  {
   "cell_type": "code",
   "execution_count": 9,
   "id": "bc4f929a-d46b-49e3-81eb-e7df6a4eae0d",
   "metadata": {},
   "outputs": [
    {
     "data": {
      "text/plain": [
       "5"
      ]
     },
     "execution_count": 9,
     "metadata": {},
     "output_type": "execute_result"
    }
   ],
   "source": [
    "nums_array[-1]"
   ]
  },
  {
   "cell_type": "code",
   "execution_count": 10,
   "id": "ebf78146-6cbd-4435-9e4d-7fbedd28441a",
   "metadata": {},
   "outputs": [
    {
     "data": {
      "text/plain": [
       "(5,)"
      ]
     },
     "execution_count": 10,
     "metadata": {},
     "output_type": "execute_result"
    }
   ],
   "source": [
    "nums_array.shape"
   ]
  },
  {
   "cell_type": "code",
   "execution_count": 11,
   "id": "2fdb1d77-eb3c-4e5b-83ef-645d0562f485",
   "metadata": {},
   "outputs": [
    {
     "data": {
      "text/plain": [
       "1"
      ]
     },
     "execution_count": 11,
     "metadata": {},
     "output_type": "execute_result"
    }
   ],
   "source": [
    "nums_array.ndim"
   ]
  },
  {
   "cell_type": "code",
   "execution_count": 12,
   "id": "b18282a0-9782-4061-95e9-20e9a87f6c30",
   "metadata": {},
   "outputs": [
    {
     "data": {
      "text/plain": [
       "5"
      ]
     },
     "execution_count": 12,
     "metadata": {},
     "output_type": "execute_result"
    }
   ],
   "source": [
    "nums_array.size"
   ]
  },
  {
   "cell_type": "code",
   "execution_count": 13,
   "id": "d878bff5-f530-4c45-b162-041ee9dadbf9",
   "metadata": {},
   "outputs": [
    {
     "data": {
      "text/plain": [
       "dtype('int32')"
      ]
     },
     "execution_count": 13,
     "metadata": {},
     "output_type": "execute_result"
    }
   ],
   "source": [
    "nums_array.dtype"
   ]
  },
  {
   "cell_type": "code",
   "execution_count": 14,
   "id": "0f590cb1-2da1-473f-ae21-8666fa775d35",
   "metadata": {},
   "outputs": [
    {
     "data": {
      "text/plain": [
       "4"
      ]
     },
     "execution_count": 14,
     "metadata": {},
     "output_type": "execute_result"
    }
   ],
   "source": [
    "nums_array.itemsize"
   ]
  },
  {
   "cell_type": "code",
   "execution_count": 15,
   "id": "6e8fb217-1f08-4e0d-8b00-9a100abe89f1",
   "metadata": {},
   "outputs": [
    {
     "data": {
      "text/plain": [
       "'For save variable nums_array need 4 bytes'"
      ]
     },
     "execution_count": 15,
     "metadata": {},
     "output_type": "execute_result"
    }
   ],
   "source": [
    "f\"For save variable nums_array need {nums_array.itemsize} bytes\""
   ]
  },
  {
   "cell_type": "code",
   "execution_count": 20,
   "id": "47ee0845-9900-421e-8bb4-5c4b1514bd1b",
   "metadata": {},
   "outputs": [
    {
     "data": {
      "text/plain": [
       "array(['True', 'False', 'dffsdfsf', '555', '-5.9'], dtype='<U32')"
      ]
     },
     "execution_count": 20,
     "metadata": {},
     "output_type": "execute_result"
    }
   ],
   "source": [
    "str_array=np.array([True,False,\"dffsdfsf\",555,-5.9])\n",
    "str_array"
   ]
  },
  {
   "cell_type": "code",
   "execution_count": 21,
   "id": "8d4915ea-245e-420f-af29-e77eff9b02fe",
   "metadata": {},
   "outputs": [
    {
     "data": {
      "text/plain": [
       "dtype('<U32')"
      ]
     },
     "execution_count": 21,
     "metadata": {},
     "output_type": "execute_result"
    }
   ],
   "source": [
    "str_array.dtype"
   ]
  },
  {
   "cell_type": "code",
   "execution_count": 22,
   "id": "e62ee02d-ed06-46e9-88f1-44aa1fe0c941",
   "metadata": {},
   "outputs": [
    {
     "data": {
      "text/plain": [
       "'str1024'"
      ]
     },
     "execution_count": 22,
     "metadata": {},
     "output_type": "execute_result"
    }
   ],
   "source": [
    "str_array.dtype.name"
   ]
  },
  {
   "cell_type": "code",
   "execution_count": 23,
   "id": "15b2371f-4501-4928-8c90-0b059a30270a",
   "metadata": {},
   "outputs": [
    {
     "data": {
      "text/plain": [
       "128"
      ]
     },
     "execution_count": 23,
     "metadata": {},
     "output_type": "execute_result"
    }
   ],
   "source": [
    "str_array.itemsize"
   ]
  },
  {
   "cell_type": "code",
   "execution_count": 24,
   "id": "4890362b-e7cf-4858-8d2d-4a0d42adf4de",
   "metadata": {},
   "outputs": [
    {
     "data": {
      "text/plain": [
       "'For save variable str_array need 128 bytes'"
      ]
     },
     "execution_count": 24,
     "metadata": {},
     "output_type": "execute_result"
    }
   ],
   "source": [
    "f\"For save variable str_array need {str_array.itemsize} bytes\""
   ]
  },
  {
   "cell_type": "code",
   "execution_count": 28,
   "id": "18857007-1131-4ed6-a4d3-01fcf5346339",
   "metadata": {},
   "outputs": [
    {
     "data": {
      "text/plain": [
       "array([{'city': 'London'}, {'city': 'Toronto'}], dtype=object)"
      ]
     },
     "execution_count": 28,
     "metadata": {},
     "output_type": "execute_result"
    }
   ],
   "source": [
    "obj_array=np.array([{'city': 'London'},{'city':'Toronto'}])\n",
    "obj_array"
   ]
  },
  {
   "cell_type": "code",
   "execution_count": 30,
   "id": "dd640498-b9c8-43ba-97da-ad39f852fd6c",
   "metadata": {},
   "outputs": [
    {
     "data": {
      "text/plain": [
       "'object'"
      ]
     },
     "execution_count": 30,
     "metadata": {},
     "output_type": "execute_result"
    }
   ],
   "source": [
    "obj_array.dtype.name"
   ]
  },
  {
   "cell_type": "code",
   "execution_count": 31,
   "id": "994dbe45-fa71-4529-ae4e-c664af9e5b00",
   "metadata": {},
   "outputs": [
    {
     "data": {
      "text/plain": [
       "8"
      ]
     },
     "execution_count": 31,
     "metadata": {},
     "output_type": "execute_result"
    }
   ],
   "source": [
    "obj_array.itemsize"
   ]
  },
  {
   "cell_type": "code",
   "execution_count": 35,
   "id": "ef04912a-92a0-4a74-826d-ac96ec2cad23",
   "metadata": {},
   "outputs": [
    {
     "data": {
      "text/plain": [
       "array([{'city': 'London'}, {'city': 'Toronto', 'id': 42999}], dtype=object)"
      ]
     },
     "execution_count": 35,
     "metadata": {},
     "output_type": "execute_result"
    }
   ],
   "source": [
    "obj_array=np.array([{'city': 'London'},{'city':'Toronto','id':42999}])\n",
    "obj_array"
   ]
  },
  {
   "cell_type": "code",
   "execution_count": 36,
   "id": "e2b139f2-beba-4066-b169-6de1c39b98ba",
   "metadata": {},
   "outputs": [
    {
     "data": {
      "text/plain": [
       "'object'"
      ]
     },
     "execution_count": 36,
     "metadata": {},
     "output_type": "execute_result"
    }
   ],
   "source": [
    "obj_array.dtype.name"
   ]
  },
  {
   "cell_type": "code",
   "execution_count": 37,
   "id": "c5665a12-2c15-4628-b673-17241f4454f0",
   "metadata": {},
   "outputs": [
    {
     "data": {
      "text/plain": [
       "8"
      ]
     },
     "execution_count": 37,
     "metadata": {},
     "output_type": "execute_result"
    }
   ],
   "source": [
    "obj_array.itemsize"
   ]
  },
  {
   "cell_type": "code",
   "execution_count": null,
   "id": "e7befc67-2479-4fbf-8873-c0ecfb6feaf7",
   "metadata": {},
   "outputs": [],
   "source": []
  }
 ],
 "metadata": {
  "kernelspec": {
   "display_name": "Python 3 (ipykernel)",
   "language": "python",
   "name": "python3"
  },
  "language_info": {
   "codemirror_mode": {
    "name": "ipython",
    "version": 3
   },
   "file_extension": ".py",
   "mimetype": "text/x-python",
   "name": "python",
   "nbconvert_exporter": "python",
   "pygments_lexer": "ipython3",
   "version": "3.9.13"
  }
 },
 "nbformat": 4,
 "nbformat_minor": 5
}
