{
 "cells": [
  {
   "cell_type": "code",
   "execution_count": 1,
   "id": "9c727f87-5925-467c-82a6-ff934d9e73b5",
   "metadata": {},
   "outputs": [],
   "source": [
    "import numpy as np"
   ]
  },
  {
   "cell_type": "code",
   "execution_count": 2,
   "id": "7e8550b0-c9cf-4d59-8c2c-e5db7dfc4012",
   "metadata": {},
   "outputs": [
    {
     "data": {
      "text/plain": [
       "array([0, 1, 2, 3, 4, 5, 6, 7, 8, 9])"
      ]
     },
     "execution_count": 2,
     "metadata": {},
     "output_type": "execute_result"
    }
   ],
   "source": [
    "np.arange(10)"
   ]
  },
  {
   "cell_type": "code",
   "execution_count": 3,
   "id": "159a9619-8b98-47bb-b198-c1bdae1c4ba7",
   "metadata": {},
   "outputs": [
    {
     "data": {
      "text/plain": [
       "numpy.ndarray"
      ]
     },
     "execution_count": 3,
     "metadata": {},
     "output_type": "execute_result"
    }
   ],
   "source": [
    "type(np.arange(10))"
   ]
  },
  {
   "cell_type": "code",
   "execution_count": 4,
   "id": "67de27de-4aa1-4b43-b325-35bc469a4905",
   "metadata": {},
   "outputs": [
    {
     "data": {
      "text/plain": [
       "array([15, 16, 17, 18, 19, 20, 21, 22, 23, 24])"
      ]
     },
     "execution_count": 4,
     "metadata": {},
     "output_type": "execute_result"
    }
   ],
   "source": [
    "np.arange(15,25)"
   ]
  },
  {
   "cell_type": "code",
   "execution_count": 5,
   "id": "76249092-f685-4241-b6ca-034a5fc8dade",
   "metadata": {},
   "outputs": [
    {
     "data": {
      "text/plain": [
       "array([10, 13, 16, 19, 22])"
      ]
     },
     "execution_count": 5,
     "metadata": {},
     "output_type": "execute_result"
    }
   ],
   "source": [
    "np.arange(10,25,3)"
   ]
  },
  {
   "cell_type": "code",
   "execution_count": 6,
   "id": "2ad98e91-f4c7-4a47-96b7-793acee082ca",
   "metadata": {},
   "outputs": [
    {
     "data": {
      "text/plain": [
       "array([-10,  -7,  -4,  -1,   2,   5,   8])"
      ]
     },
     "execution_count": 6,
     "metadata": {},
     "output_type": "execute_result"
    }
   ],
   "source": [
    "np.arange(-10,10,3)"
   ]
  },
  {
   "cell_type": "code",
   "execution_count": 7,
   "id": "fc14703e-49d0-4c8e-98eb-e2f6f7cdb796",
   "metadata": {},
   "outputs": [
    {
     "data": {
      "text/plain": [
       "array([[ 0,  1,  2,  3,  4,  5,  6,  7,  8,  9],\n",
       "       [10, 11, 12, 13, 14, 15, 16, 17, 18, 19]])"
      ]
     },
     "execution_count": 7,
     "metadata": {},
     "output_type": "execute_result"
    }
   ],
   "source": [
    "np.arange(20).reshape([2,10])"
   ]
  },
  {
   "cell_type": "code",
   "execution_count": 8,
   "id": "af0a69ad-f564-4955-ab94-4418597fedf0",
   "metadata": {},
   "outputs": [
    {
     "data": {
      "text/plain": [
       "array([[[ 0,  1,  2,  3,  4],\n",
       "        [ 5,  6,  7,  8,  9]],\n",
       "\n",
       "       [[10, 11, 12, 13, 14],\n",
       "        [15, 16, 17, 18, 19]]])"
      ]
     },
     "execution_count": 8,
     "metadata": {},
     "output_type": "execute_result"
    }
   ],
   "source": [
    "np.arange(20).reshape([2,2,5])"
   ]
  },
  {
   "cell_type": "code",
   "execution_count": 9,
   "id": "832e4a02-4b11-4331-8abc-e20a7cd5d367",
   "metadata": {},
   "outputs": [
    {
     "data": {
      "text/plain": [
       "array([[[ 0,  1],\n",
       "        [ 2,  3]],\n",
       "\n",
       "       [[ 4,  5],\n",
       "        [ 6,  7]],\n",
       "\n",
       "       [[ 8,  9],\n",
       "        [10, 11]],\n",
       "\n",
       "       [[12, 13],\n",
       "        [14, 15]],\n",
       "\n",
       "       [[16, 17],\n",
       "        [18, 19]]])"
      ]
     },
     "execution_count": 9,
     "metadata": {},
     "output_type": "execute_result"
    }
   ],
   "source": [
    "np.arange(20).reshape([5,2,2])"
   ]
  },
  {
   "cell_type": "code",
   "execution_count": 10,
   "id": "49b70db0-cc04-4087-b3dc-67a13ef33c39",
   "metadata": {},
   "outputs": [
    {
     "data": {
      "text/plain": [
       "array([[[ 0,  1],\n",
       "        [ 2,  3],\n",
       "        [ 4,  5],\n",
       "        [ 6,  7],\n",
       "        [ 8,  9]],\n",
       "\n",
       "       [[10, 11],\n",
       "        [12, 13],\n",
       "        [14, 15],\n",
       "        [16, 17],\n",
       "        [18, 19]]])"
      ]
     },
     "execution_count": 10,
     "metadata": {},
     "output_type": "execute_result"
    }
   ],
   "source": [
    "np.arange(20).reshape([5,2,2]).reshape([2,5,2])"
   ]
  },
  {
   "cell_type": "code",
   "execution_count": 11,
   "id": "57a7340c-d810-4eed-b1cb-d8f2b06896c0",
   "metadata": {},
   "outputs": [
    {
     "data": {
      "text/plain": [
       "array([0.22403237, 0.49374822, 0.09032948, 0.4764053 , 0.77213317,\n",
       "       0.39989198, 0.98649757, 0.06972046, 0.53356752, 0.04263659])"
      ]
     },
     "execution_count": 11,
     "metadata": {},
     "output_type": "execute_result"
    }
   ],
   "source": [
    "np.random.random((10,))"
   ]
  },
  {
   "cell_type": "code",
   "execution_count": 12,
   "id": "74694911-2cd4-4345-a1a8-96d9ad2b3512",
   "metadata": {},
   "outputs": [
    {
     "data": {
      "text/plain": [
       "array([[0.96198723, 0.06824974],\n",
       "       [0.93764376, 0.93399917],\n",
       "       [0.05851541, 0.65993937],\n",
       "       [0.00815311, 0.15589102],\n",
       "       [0.20810652, 0.95323072]])"
      ]
     },
     "execution_count": 12,
     "metadata": {},
     "output_type": "execute_result"
    }
   ],
   "source": [
    "np.random.random((10,)).reshape([5,2])"
   ]
  },
  {
   "cell_type": "code",
   "execution_count": 15,
   "id": "a27c3ad2-faa2-43c8-bc6a-8b2134de72c9",
   "metadata": {},
   "outputs": [
    {
     "data": {
      "text/plain": [
       "array([[[59, 79, 54],\n",
       "        [65, 50, 67],\n",
       "        [77, 78, 75]],\n",
       "\n",
       "       [[79, 66, 79],\n",
       "        [67, 76, 58],\n",
       "        [59, 50, 60]],\n",
       "\n",
       "       [[58, 72, 54],\n",
       "        [69, 66, 54],\n",
       "        [65, 61, 72]],\n",
       "\n",
       "       [[74, 61, 76],\n",
       "        [51, 58, 54],\n",
       "        [64, 67, 69]]])"
      ]
     },
     "execution_count": 15,
     "metadata": {},
     "output_type": "execute_result"
    }
   ],
   "source": [
    "np.random.seed(10)\n",
    "np.random.randint(50,80,(4,3,3))"
   ]
  },
  {
   "cell_type": "code",
   "execution_count": 17,
   "id": "b70e2cd8-1fff-4b69-8b05-b2f3ab335d54",
   "metadata": {},
   "outputs": [
    {
     "data": {
      "text/plain": [
       "array([59, 79, 54, 65, 50, 67, 77, 78, 75, 79, 66, 79, 67, 76, 58, 59, 50,\n",
       "       60, 58, 72, 54, 69, 66, 54, 65, 61, 72, 74, 61, 76, 51, 58, 54, 64,\n",
       "       67, 69])"
      ]
     },
     "execution_count": 17,
     "metadata": {},
     "output_type": "execute_result"
    }
   ],
   "source": [
    "np.random.seed(10)\n",
    "np.random.randint(50,80,(4,3,3)).flatten()"
   ]
  },
  {
   "cell_type": "code",
   "execution_count": 21,
   "id": "c0a5ce38-d6cf-452a-86f3-c37065b1d7e1",
   "metadata": {},
   "outputs": [
    {
     "data": {
      "text/plain": [
       "array([[ 0,  1,  2,  3,  4,  5,  6,  7,  8,  9],\n",
       "       [10, 11, 12, 13, 14, 15, 16, 17, 18, 19],\n",
       "       [20, 21, 22, 23, 24, 25, 26, 27, 28, 29]])"
      ]
     },
     "execution_count": 21,
     "metadata": {},
     "output_type": "execute_result"
    }
   ],
   "source": [
    "np.arange(30).reshape((3,10))"
   ]
  },
  {
   "cell_type": "code",
   "execution_count": 22,
   "id": "3bb241a9-24e7-431a-9c83-62342ad8b70a",
   "metadata": {},
   "outputs": [
    {
     "ename": "ValueError",
     "evalue": "cannot reshape array of size 30 into shape (5,10)",
     "output_type": "error",
     "traceback": [
      "\u001b[1;31m---------------------------------------------------------------------------\u001b[0m",
      "\u001b[1;31mValueError\u001b[0m                                Traceback (most recent call last)",
      "\u001b[1;32m~\\AppData\\Local\\Temp\\ipykernel_8836\\2690275082.py\u001b[0m in \u001b[0;36m<module>\u001b[1;34m\u001b[0m\n\u001b[1;32m----> 1\u001b[1;33m \u001b[0mnp\u001b[0m\u001b[1;33m.\u001b[0m\u001b[0marange\u001b[0m\u001b[1;33m(\u001b[0m\u001b[1;36m30\u001b[0m\u001b[1;33m)\u001b[0m\u001b[1;33m.\u001b[0m\u001b[0mreshape\u001b[0m\u001b[1;33m(\u001b[0m\u001b[1;33m(\u001b[0m\u001b[1;36m5\u001b[0m\u001b[1;33m,\u001b[0m\u001b[1;36m10\u001b[0m\u001b[1;33m)\u001b[0m\u001b[1;33m)\u001b[0m\u001b[1;33m\u001b[0m\u001b[1;33m\u001b[0m\u001b[0m\n\u001b[0m",
      "\u001b[1;31mValueError\u001b[0m: cannot reshape array of size 30 into shape (5,10)"
     ]
    }
   ],
   "source": [
    "np.arange(30).reshape((5,10))"
   ]
  },
  {
   "cell_type": "code",
   "execution_count": null,
   "id": "26b428a8-1961-4d14-a6fe-cc4fd87ac198",
   "metadata": {},
   "outputs": [],
   "source": []
  }
 ],
 "metadata": {
  "kernelspec": {
   "display_name": "Python 3 (ipykernel)",
   "language": "python",
   "name": "python3"
  },
  "language_info": {
   "codemirror_mode": {
    "name": "ipython",
    "version": 3
   },
   "file_extension": ".py",
   "mimetype": "text/x-python",
   "name": "python",
   "nbconvert_exporter": "python",
   "pygments_lexer": "ipython3",
   "version": "3.9.13"
  }
 },
 "nbformat": 4,
 "nbformat_minor": 5
}
