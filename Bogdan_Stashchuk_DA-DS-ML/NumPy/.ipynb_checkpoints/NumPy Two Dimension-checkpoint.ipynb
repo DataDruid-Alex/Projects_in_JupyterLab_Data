{
 "cells": [
  {
   "cell_type": "code",
   "execution_count": 18,
   "id": "40784244-2745-4f18-9f3a-78d0dda8c83b",
   "metadata": {},
   "outputs": [],
   "source": [
    "import numpy as np"
   ]
  },
  {
   "cell_type": "code",
   "execution_count": 19,
   "id": "fea7e7cf-8708-4f34-ad0e-378cd5bb0ad6",
   "metadata": {},
   "outputs": [
    {
     "data": {
      "text/plain": [
       "array([[1, 2, 3],\n",
       "       [4, 5, 6]])"
      ]
     },
     "execution_count": 19,
     "metadata": {},
     "output_type": "execute_result"
    }
   ],
   "source": [
    "first=np.array([[1,2,3],[4,5,6]])\n",
    "first"
   ]
  },
  {
   "cell_type": "code",
   "execution_count": 5,
   "id": "63d36563-d3a4-4f76-92be-88f160c8eec7",
   "metadata": {},
   "outputs": [
    {
     "data": {
      "text/plain": [
       "(2, 3)"
      ]
     },
     "execution_count": 5,
     "metadata": {},
     "output_type": "execute_result"
    }
   ],
   "source": [
    "first.shape"
   ]
  },
  {
   "cell_type": "code",
   "execution_count": 6,
   "id": "908f7f4b-aed4-4719-a235-b5ce82ebdda6",
   "metadata": {},
   "outputs": [
    {
     "data": {
      "text/plain": [
       "2"
      ]
     },
     "execution_count": 6,
     "metadata": {},
     "output_type": "execute_result"
    }
   ],
   "source": [
    "first.ndim"
   ]
  },
  {
   "cell_type": "code",
   "execution_count": 7,
   "id": "73d5086c-cc4c-46b7-9ab1-f642115884f6",
   "metadata": {},
   "outputs": [
    {
     "data": {
      "text/plain": [
       "array([[ 7,  8,  9],\n",
       "       [10, 11, 12]])"
      ]
     },
     "execution_count": 7,
     "metadata": {},
     "output_type": "execute_result"
    }
   ],
   "source": [
    "second=np.array([[7,8,9],[10,11,12]])\n",
    "second"
   ]
  },
  {
   "cell_type": "code",
   "execution_count": 9,
   "id": "9b8d830c-4c38-4ff1-827b-ce3b9417b7f7",
   "metadata": {},
   "outputs": [
    {
     "data": {
      "text/plain": [
       "(2, 3)"
      ]
     },
     "execution_count": 9,
     "metadata": {},
     "output_type": "execute_result"
    }
   ],
   "source": [
    "second.shape"
   ]
  },
  {
   "cell_type": "code",
   "execution_count": 10,
   "id": "7fb05cb4-5c1c-4a29-8f6e-c45c04790f41",
   "metadata": {},
   "outputs": [
    {
     "data": {
      "text/plain": [
       "array([[ 8, 10, 12],\n",
       "       [14, 16, 18]])"
      ]
     },
     "execution_count": 10,
     "metadata": {},
     "output_type": "execute_result"
    }
   ],
   "source": [
    "first+second"
   ]
  },
  {
   "cell_type": "code",
   "execution_count": 11,
   "id": "e86978cc-fb99-4fe3-b69d-13e79fe43619",
   "metadata": {},
   "outputs": [
    {
     "data": {
      "text/plain": [
       "array([[ 7, 16, 27],\n",
       "       [40, 55, 72]])"
      ]
     },
     "execution_count": 11,
     "metadata": {},
     "output_type": "execute_result"
    }
   ],
   "source": [
    "first * second"
   ]
  },
  {
   "cell_type": "code",
   "execution_count": 13,
   "id": "30e31032-07f7-48dd-a22f-3a25938f3e7d",
   "metadata": {},
   "outputs": [
    {
     "data": {
      "text/plain": [
       "array([[ 6,  7,  8],\n",
       "       [ 9, 10, 11]])"
      ]
     },
     "execution_count": 13,
     "metadata": {},
     "output_type": "execute_result"
    }
   ],
   "source": [
    "first+5"
   ]
  },
  {
   "cell_type": "code",
   "execution_count": 14,
   "id": "5de6b0c9-d23f-42c5-99a3-9635021d9b10",
   "metadata": {},
   "outputs": [
    {
     "data": {
      "text/plain": [
       "array([[-8, -7, -6],\n",
       "       [-5, -4, -3]])"
      ]
     },
     "execution_count": 14,
     "metadata": {},
     "output_type": "execute_result"
    }
   ],
   "source": [
    "first-9"
   ]
  },
  {
   "cell_type": "code",
   "execution_count": 15,
   "id": "d6aaef4a-179c-40e5-8154-ef3a3d5c430c",
   "metadata": {},
   "outputs": [
    {
     "data": {
      "text/plain": [
       "array([[0.33333333, 0.66666667, 1.        ],\n",
       "       [1.33333333, 1.66666667, 2.        ]])"
      ]
     },
     "execution_count": 15,
     "metadata": {},
     "output_type": "execute_result"
    }
   ],
   "source": [
    "first/3"
   ]
  },
  {
   "cell_type": "code",
   "execution_count": 16,
   "id": "b57dfed5-d7aa-44e7-a6f8-a4aca4a34440",
   "metadata": {},
   "outputs": [
    {
     "data": {
      "text/plain": [
       "array([[7. , 4. , 3. ],\n",
       "       [2.5, 2.2, 2. ]])"
      ]
     },
     "execution_count": 16,
     "metadata": {},
     "output_type": "execute_result"
    }
   ],
   "source": [
    "second/first"
   ]
  },
  {
   "cell_type": "code",
   "execution_count": 20,
   "id": "5cf4f591-19b0-4581-b22f-523ab7f06486",
   "metadata": {},
   "outputs": [
    {
     "data": {
      "text/plain": [
       "5"
      ]
     },
     "execution_count": 20,
     "metadata": {},
     "output_type": "execute_result"
    }
   ],
   "source": [
    "first[1,1]"
   ]
  },
  {
   "cell_type": "code",
   "execution_count": 21,
   "id": "2575057a-7cb6-436d-9eae-db3d4b8dde36",
   "metadata": {},
   "outputs": [
    {
     "data": {
      "text/plain": [
       "5"
      ]
     },
     "execution_count": 21,
     "metadata": {},
     "output_type": "execute_result"
    }
   ],
   "source": [
    "first[1][1]"
   ]
  },
  {
   "cell_type": "code",
   "execution_count": 27,
   "id": "4d5245e1-e847-4d4a-96e6-ff3156119a64",
   "metadata": {},
   "outputs": [
    {
     "data": {
      "text/plain": [
       "array([[ 1,  2,  3],\n",
       "       [ 4,  5,  6],\n",
       "       [ 7,  8,  9],\n",
       "       [10, 11, 12]])"
      ]
     },
     "execution_count": 27,
     "metadata": {},
     "output_type": "execute_result"
    }
   ],
   "source": [
    "np.concatenate((first,second))"
   ]
  },
  {
   "cell_type": "code",
   "execution_count": 28,
   "id": "2d1e066d-6653-4e08-be62-96526ae7be25",
   "metadata": {},
   "outputs": [
    {
     "data": {
      "text/plain": [
       "array([[ 1,  2,  3,  7,  8,  9],\n",
       "       [ 4,  5,  6, 10, 11, 12]])"
      ]
     },
     "execution_count": 28,
     "metadata": {},
     "output_type": "execute_result"
    }
   ],
   "source": [
    "np.concatenate((first,second),axis=1)"
   ]
  },
  {
   "cell_type": "code",
   "execution_count": 32,
   "id": "32537fdd-0729-4dfb-a910-0c6d01959328",
   "metadata": {},
   "outputs": [
    {
     "data": {
      "text/plain": [
       "'AxisError: axis 1 is out of bounds for array of dimension 1'"
      ]
     },
     "execution_count": 32,
     "metadata": {},
     "output_type": "execute_result"
    }
   ],
   "source": [
    "#np.concatenate((np.array([1,2,3,4]),np.array([5,6,7,8])),axis=1)\n",
    "\"AxisError: axis 1 is out of bounds for array of dimension 1\""
   ]
  }
 ],
 "metadata": {
  "kernelspec": {
   "display_name": "Python 3 (ipykernel)",
   "language": "python",
   "name": "python3"
  },
  "language_info": {
   "codemirror_mode": {
    "name": "ipython",
    "version": 3
   },
   "file_extension": ".py",
   "mimetype": "text/x-python",
   "name": "python",
   "nbconvert_exporter": "python",
   "pygments_lexer": "ipython3",
   "version": "3.9.13"
  }
 },
 "nbformat": 4,
 "nbformat_minor": 5
}
