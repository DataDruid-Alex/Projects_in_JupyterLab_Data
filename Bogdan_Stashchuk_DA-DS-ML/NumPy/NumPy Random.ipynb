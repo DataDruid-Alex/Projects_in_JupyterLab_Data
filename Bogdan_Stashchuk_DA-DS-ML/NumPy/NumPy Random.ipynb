{
 "cells": [
  {
   "cell_type": "code",
   "execution_count": 1,
   "id": "052dc1dc-f746-41f2-9797-eba6369c083b",
   "metadata": {},
   "outputs": [],
   "source": [
    "import numpy as np"
   ]
  },
  {
   "cell_type": "code",
   "execution_count": 4,
   "id": "7f51b90d-7eb0-449e-bea4-b402c962004b",
   "metadata": {},
   "outputs": [
    {
     "data": {
      "text/plain": [
       "array([[0., 0., 0., 0.],\n",
       "       [0., 0., 0., 0.],\n",
       "       [0., 0., 0., 0.]])"
      ]
     },
     "execution_count": 4,
     "metadata": {},
     "output_type": "execute_result"
    }
   ],
   "source": [
    "np.zeros((3,4))"
   ]
  },
  {
   "cell_type": "code",
   "execution_count": 8,
   "id": "65469874-07ab-414c-95d9-cd07dad88aa0",
   "metadata": {},
   "outputs": [
    {
     "data": {
      "text/plain": [
       "array([[0, 0, 0, 0],\n",
       "       [0, 0, 0, 0]])"
      ]
     },
     "execution_count": 8,
     "metadata": {},
     "output_type": "execute_result"
    }
   ],
   "source": [
    "np.zeros((2,4),dtype=int)"
   ]
  },
  {
   "cell_type": "code",
   "execution_count": 9,
   "id": "1d7799f0-09b1-43ee-9a57-08b36f8c43c1",
   "metadata": {},
   "outputs": [
    {
     "data": {
      "text/plain": [
       "array([[False, False, False, False],\n",
       "       [False, False, False, False],\n",
       "       [False, False, False, False]])"
      ]
     },
     "execution_count": 9,
     "metadata": {},
     "output_type": "execute_result"
    }
   ],
   "source": [
    "np.zeros((3,4),dtype=bool)"
   ]
  },
  {
   "cell_type": "code",
   "execution_count": 10,
   "id": "2b148cd7-fc17-4bff-82ee-85f2f4cb7762",
   "metadata": {},
   "outputs": [
    {
     "data": {
      "text/plain": [
       "array([['', '', '', ''],\n",
       "       ['', '', '', ''],\n",
       "       ['', '', '', '']], dtype='<U1')"
      ]
     },
     "execution_count": 10,
     "metadata": {},
     "output_type": "execute_result"
    }
   ],
   "source": [
    "np.zeros((3,4),dtype=str)"
   ]
  },
  {
   "cell_type": "code",
   "execution_count": 12,
   "id": "66249c59-3430-4760-81ea-7dc082e4594c",
   "metadata": {},
   "outputs": [
    {
     "data": {
      "text/plain": [
       "array([[1, 1, 1],\n",
       "       [1, 1, 1]])"
      ]
     },
     "execution_count": 12,
     "metadata": {},
     "output_type": "execute_result"
    }
   ],
   "source": [
    "np.ones((2,3),dtype=int)"
   ]
  },
  {
   "cell_type": "code",
   "execution_count": 19,
   "id": "0cef2a02-a965-4aae-80e1-6a02ab12cfbd",
   "metadata": {},
   "outputs": [
    {
     "data": {
      "text/plain": [
       "array([[0.77132064, 0.02075195],\n",
       "       [0.63364823, 0.74880388],\n",
       "       [0.49850701, 0.22479665],\n",
       "       [0.19806286, 0.76053071]])"
      ]
     },
     "execution_count": 19,
     "metadata": {},
     "output_type": "execute_result"
    }
   ],
   "source": [
    "np.random.seed(10)\n",
    "np.random.random((4,2))"
   ]
  },
  {
   "cell_type": "code",
   "execution_count": 24,
   "id": "5985cecf-464e-4caa-89f3-bc75bad2c23f",
   "metadata": {},
   "outputs": [
    {
     "data": {
      "text/plain": [
       "array([[93, 98, 40, 19, 52],\n",
       "       [74, 31, 66, 56, 22]])"
      ]
     },
     "execution_count": 24,
     "metadata": {},
     "output_type": "execute_result"
    }
   ],
   "source": [
    "np.random.seed(19)\n",
    "np.random.randint(0,100,(2,5))"
   ]
  },
  {
   "cell_type": "code",
   "execution_count": 28,
   "id": "5d281be6-75ce-46fc-b30f-09553552936f",
   "metadata": {},
   "outputs": [
    {
     "data": {
      "text/plain": [
       "array([[10.55829297, 75.60247223, 25.19992137]])"
      ]
     },
     "execution_count": 28,
     "metadata": {},
     "output_type": "execute_result"
    }
   ],
   "source": [
    "np.random.seed(19)\n",
    "np.random.uniform(1,99,(1,3))"
   ]
  },
  {
   "cell_type": "code",
   "execution_count": 29,
   "id": "66fd954c-2b93-4e4a-bfce-ad16630a3e86",
   "metadata": {},
   "outputs": [
    {
     "data": {
      "text/plain": [
       "array([6, 6, 3, 1, 4, 5, 3, 3, 1, 3, 6, 2, 3, 3, 5, 1, 2, 4, 2, 5, 6, 6,\n",
       "       5, 2, 2, 3, 6, 4, 2, 1, 5, 6, 6, 1, 2, 5, 5, 2, 5, 4, 2, 6, 5, 2,\n",
       "       4, 6, 2, 4, 4, 2, 4, 6, 5, 4, 5, 1, 2, 4, 3, 5, 1, 3, 3, 5, 3, 6,\n",
       "       4, 6, 3, 4, 2, 1, 1, 3, 6, 2, 1, 2, 5, 4, 3, 3, 5, 2, 1, 4, 5, 3,\n",
       "       5, 6, 3, 4, 2, 6, 5, 5, 2, 6, 5, 2])"
      ]
     },
     "execution_count": 29,
     "metadata": {},
     "output_type": "execute_result"
    }
   ],
   "source": [
    "np.random.seed(19)\n",
    "np.random.choice(np.array([1,2,3,4,5,6]),100)"
   ]
  },
  {
   "cell_type": "code",
   "execution_count": 33,
   "id": "da5fe21f-155f-47fc-be1d-e132c57ebe97",
   "metadata": {},
   "outputs": [
    {
     "data": {
      "text/plain": [
       "array(['p', '8', 'p', 'h', 'a', 'j', 'i', 'h', 'h', 'a', '8', 'h', 'p',\n",
       "       '3', 'h', '8', 'h', 'i', 'a', '3'], dtype='<U11')"
      ]
     },
     "execution_count": 33,
     "metadata": {},
     "output_type": "execute_result"
    }
   ],
   "source": [
    "np.random.seed(19)\n",
    "np.random.choice(np.array(['a','3','h','j','i','p',8]),20)"
   ]
  }
 ],
 "metadata": {
  "kernelspec": {
   "display_name": "Python 3 (ipykernel)",
   "language": "python",
   "name": "python3"
  },
  "language_info": {
   "codemirror_mode": {
    "name": "ipython",
    "version": 3
   },
   "file_extension": ".py",
   "mimetype": "text/x-python",
   "name": "python",
   "nbconvert_exporter": "python",
   "pygments_lexer": "ipython3",
   "version": "3.9.13"
  }
 },
 "nbformat": 4,
 "nbformat_minor": 5
}
