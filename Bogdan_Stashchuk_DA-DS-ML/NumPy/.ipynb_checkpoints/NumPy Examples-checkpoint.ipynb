{
 "cells": [
  {
   "cell_type": "code",
   "execution_count": 1,
   "id": "ed928cb2-ad28-44ae-9b8a-933677d622c1",
   "metadata": {},
   "outputs": [],
   "source": [
    "import numpy as np"
   ]
  },
  {
   "cell_type": "markdown",
   "id": "573e71af-aa3f-487e-b110-ec586561c9e6",
   "metadata": {
    "jp-MarkdownHeadingCollapsed": true,
    "tags": []
   },
   "source": [
    "## 1. Calculating Total Revenue"
   ]
  },
  {
   "cell_type": "code",
   "execution_count": 3,
   "id": "436fed6f-82c7-4f6b-992d-3859077d2ff7",
   "metadata": {},
   "outputs": [
    {
     "data": {
      "text/plain": [
       "array([19.99, 29.99, 14.99,  9.99, 24.99])"
      ]
     },
     "execution_count": 3,
     "metadata": {},
     "output_type": "execute_result"
    }
   ],
   "source": [
    "prices=np.array([19.99,29.99,14.99,9.99,24.99])\n",
    "prices"
   ]
  },
  {
   "cell_type": "code",
   "execution_count": 5,
   "id": "17399f60-d09d-4888-93ba-7dd500fe752d",
   "metadata": {},
   "outputs": [
    {
     "data": {
      "text/plain": [
       "array([10,  5,  8, 12,  3])"
      ]
     },
     "execution_count": 5,
     "metadata": {},
     "output_type": "execute_result"
    }
   ],
   "source": [
    "quantities=np.array([10,5,8,12,3])\n",
    "quantities"
   ]
  },
  {
   "cell_type": "code",
   "execution_count": 7,
   "id": "1a4ed97b-f695-4fbb-ba2c-656eb7536bba",
   "metadata": {},
   "outputs": [
    {
     "data": {
      "text/plain": [
       "array([199.9 , 149.95, 119.92, 119.88,  74.97])"
      ]
     },
     "execution_count": 7,
     "metadata": {},
     "output_type": "execute_result"
    }
   ],
   "source": [
    "revenue_per_product=prices*quantities\n",
    "revenue_per_product"
   ]
  },
  {
   "cell_type": "code",
   "execution_count": 8,
   "id": "b3a8caeb-a0b1-414c-bc21-186f6ecb3a4f",
   "metadata": {},
   "outputs": [
    {
     "data": {
      "text/plain": [
       "664.62"
      ]
     },
     "execution_count": 8,
     "metadata": {},
     "output_type": "execute_result"
    }
   ],
   "source": [
    "total_revenue=np.sum(revenue_per_product)\n",
    "total_revenue"
   ]
  },
  {
   "cell_type": "markdown",
   "id": "1c9b85b4-83de-48c9-a5ce-ccfdfb9e89cd",
   "metadata": {
    "jp-MarkdownHeadingCollapsed": true,
    "tags": []
   },
   "source": [
    "## 2. Analyzing Blog Post Stats"
   ]
  },
  {
   "cell_type": "code",
   "execution_count": 9,
   "id": "99dd80db-e438-4baa-b636-bc4cac37c9e2",
   "metadata": {},
   "outputs": [
    {
     "data": {
      "text/plain": [
       "array([1000,  500,  800, 1200,  300,  600])"
      ]
     },
     "execution_count": 9,
     "metadata": {},
     "output_type": "execute_result"
    }
   ],
   "source": [
    "views=np.array([1000,500,800,1200,300,600])\n",
    "views"
   ]
  },
  {
   "cell_type": "code",
   "execution_count": 12,
   "id": "5b8357fa-4dd2-404f-852c-38868e2a3258",
   "metadata": {},
   "outputs": [
    {
     "data": {
      "text/plain": [
       "1200"
      ]
     },
     "execution_count": 12,
     "metadata": {},
     "output_type": "execute_result"
    }
   ],
   "source": [
    "max_views=np.max(views)\n",
    "max_views"
   ]
  },
  {
   "cell_type": "code",
   "execution_count": 13,
   "id": "10c3846c-5fc3-45eb-994e-ea10f53ac91d",
   "metadata": {},
   "outputs": [
    {
     "data": {
      "text/plain": [
       "1200"
      ]
     },
     "execution_count": 13,
     "metadata": {},
     "output_type": "execute_result"
    }
   ],
   "source": [
    "max_views=max(views)\n",
    "max_views"
   ]
  },
  {
   "cell_type": "code",
   "execution_count": 15,
   "id": "e37f7404-9579-48a6-b151-18542893c4f9",
   "metadata": {},
   "outputs": [
    {
     "data": {
      "text/plain": [
       "300"
      ]
     },
     "execution_count": 15,
     "metadata": {},
     "output_type": "execute_result"
    }
   ],
   "source": [
    "min_views=np.min(views)\n",
    "min_views"
   ]
  },
  {
   "cell_type": "code",
   "execution_count": 22,
   "id": "d55d4aa8-4d11-403a-b1d2-6fd3077423f6",
   "metadata": {},
   "outputs": [
    {
     "data": {
      "text/plain": [
       "733.0"
      ]
     },
     "execution_count": 22,
     "metadata": {},
     "output_type": "execute_result"
    }
   ],
   "source": [
    "average_views=np.round(np.mean(views))\n",
    "average_views"
   ]
  },
  {
   "cell_type": "code",
   "execution_count": 23,
   "id": "aea6aea4-cbe8-4765-b84e-abdc98ca78c5",
   "metadata": {},
   "outputs": [
    {
     "data": {
      "text/plain": [
       "733"
      ]
     },
     "execution_count": 23,
     "metadata": {},
     "output_type": "execute_result"
    }
   ],
   "source": [
    "average_views=round(np.mean(views))\n",
    "average_views"
   ]
  },
  {
   "cell_type": "code",
   "execution_count": 25,
   "id": "87a8565e-67ce-4cae-b10d-ff4f18ebc53c",
   "metadata": {},
   "outputs": [
    {
     "data": {
      "text/plain": [
       "4400"
      ]
     },
     "execution_count": 25,
     "metadata": {},
     "output_type": "execute_result"
    }
   ],
   "source": [
    "total_views=np.sum(views)\n",
    "total_views"
   ]
  },
  {
   "cell_type": "markdown",
   "id": "d9670efd-1fa6-4524-9d20-bb386ea4dd23",
   "metadata": {
    "jp-MarkdownHeadingCollapsed": true,
    "tags": []
   },
   "source": [
    "## 3. Splitting Order into Batches"
   ]
  },
  {
   "cell_type": "code",
   "execution_count": 55,
   "id": "446c9c9e-58ba-4341-9f9d-43ccf3f0b86d",
   "metadata": {},
   "outputs": [
    {
     "data": {
      "text/plain": [
       "array([[1001, 1002, 1003, 1004, 1005, 1006, 1007, 1008]])"
      ]
     },
     "execution_count": 55,
     "metadata": {},
     "output_type": "execute_result"
    }
   ],
   "source": [
    "order_ids=np.array([range(1001,1009,1)])\n",
    "order_ids"
   ]
  },
  {
   "cell_type": "code",
   "execution_count": 56,
   "id": "df89e94e-6e29-4b77-bf4a-d1a5278e914e",
   "metadata": {},
   "outputs": [
    {
     "data": {
      "text/plain": [
       "8"
      ]
     },
     "execution_count": 56,
     "metadata": {},
     "output_type": "execute_result"
    }
   ],
   "source": [
    "order_ids.size"
   ]
  },
  {
   "cell_type": "code",
   "execution_count": 64,
   "id": "ee6e51a6-7f2c-40d9-8bf2-8323cb69ff8a",
   "metadata": {},
   "outputs": [
    {
     "data": {
      "text/plain": [
       "[array([1001, 1002]),\n",
       " array([1003, 1004]),\n",
       " array([1005, 1006]),\n",
       " array([1007, 1008])]"
      ]
     },
     "execution_count": 64,
     "metadata": {},
     "output_type": "execute_result"
    }
   ],
   "source": [
    "batches = np.split(order_ids.flatten(),4)\n",
    "batches"
   ]
  },
  {
   "cell_type": "code",
   "execution_count": 69,
   "id": "55d06074-86e2-4583-867a-c5f551fab6b5",
   "metadata": {},
   "outputs": [],
   "source": [
    "# order_ids = np.array(range(1001, 1009))\n",
    "# order_ids = order_ids.flatten()  # Ensure it's a 1D array\n",
    "\n",
    "# # Check the size\n",
    "# print(order_ids.size)  # Output: 8\n",
    "\n",
    "# # Split into 4 equal parts\n",
    "# batches = np.split(order_ids, 4)\n",
    "# batches\n"
   ]
  },
  {
   "cell_type": "code",
   "execution_count": 67,
   "id": "9d4aafb0-23c0-47f5-8564-c9ae316cb42f",
   "metadata": {},
   "outputs": [
    {
     "name": "stdout",
     "output_type": "stream",
     "text": [
      "[1001 1002]\n",
      "[1003 1004]\n",
      "[1005 1006]\n",
      "[1007 1008]\n"
     ]
    }
   ],
   "source": [
    "for batch in batches:\n",
    "    print(batch)"
   ]
  },
  {
   "cell_type": "code",
   "execution_count": 74,
   "id": "8e43847a-af92-4f11-9306-be2155fabb2d",
   "metadata": {},
   "outputs": [
    {
     "name": "stdout",
     "output_type": "stream",
     "text": [
      "Batch number 0:\n",
      "First element in the batch: 1001\n",
      "Second element in the batch: 1002\n",
      "\n",
      "Batch number 1:\n",
      "First element in the batch: 1003\n",
      "Second element in the batch: 1004\n",
      "\n",
      "Batch number 2:\n",
      "First element in the batch: 1005\n",
      "Second element in the batch: 1006\n",
      "\n",
      "Batch number 3:\n",
      "First element in the batch: 1007\n",
      "Second element in the batch: 1008\n",
      "\n"
     ]
    }
   ],
   "source": [
    "for i,batch in enumerate(batches):\n",
    "    print(f\"Batch number {i}:\")\n",
    "    print(\"First element in the batch:\",batch[0])\n",
    "    print(\"Second element in the batch:\",batch[1])\n",
    "    print(\"\")"
   ]
  },
  {
   "cell_type": "markdown",
   "id": "7c0e2c4d-4bf5-4c0a-9413-0c2a44454597",
   "metadata": {
    "jp-MarkdownHeadingCollapsed": true,
    "tags": []
   },
   "source": [
    "## 4. Categorizing Product Ratings"
   ]
  },
  {
   "cell_type": "code",
   "execution_count": 75,
   "id": "3cf38938-bb60-42be-95e7-56393c0fe1ec",
   "metadata": {},
   "outputs": [
    {
     "data": {
      "text/plain": [
       "array([3.5, 4.2, 5. , 4.8, 2.9, 1.3, 3.3, 4.7])"
      ]
     },
     "execution_count": 75,
     "metadata": {},
     "output_type": "execute_result"
    }
   ],
   "source": [
    "ratings=np.array([3.5,4.2,5.0,4.8,2.9,1.3,3.3,4.7])\n",
    "ratings"
   ]
  },
  {
   "cell_type": "code",
   "execution_count": 77,
   "id": "f8ce8e27-2cac-4bc5-a8f8-404ba66d163e",
   "metadata": {},
   "outputs": [
    {
     "data": {
      "text/plain": [
       "array([4.2, 5. , 4.8, 4.7])"
      ]
     },
     "execution_count": 77,
     "metadata": {},
     "output_type": "execute_result"
    }
   ],
   "source": [
    "positive_ratings=ratings[ratings>=4.0]\n",
    "positive_ratings"
   ]
  },
  {
   "cell_type": "code",
   "execution_count": 81,
   "id": "a47c3e41-38f4-494f-85b4-c80fca198784",
   "metadata": {},
   "outputs": [
    {
     "data": {
      "text/plain": [
       "array([3.5, 2.9, 1.3, 3.3])"
      ]
     },
     "execution_count": 81,
     "metadata": {},
     "output_type": "execute_result"
    }
   ],
   "source": [
    "negative_ratings=ratings[ratings<4]\n",
    "negative_ratings"
   ]
  },
  {
   "cell_type": "markdown",
   "id": "69c77d8b-ae50-4d71-988d-9953e8291174",
   "metadata": {
    "jp-MarkdownHeadingCollapsed": true,
    "tags": []
   },
   "source": [
    "## 5. Calculate Total and Average quantities sold"
   ]
  },
  {
   "cell_type": "code",
   "execution_count": 84,
   "id": "78829848-9621-45f9-aaa9-e8a01b25251d",
   "metadata": {},
   "outputs": [
    {
     "data": {
      "text/plain": [
       "array([[ 5,  3,  2,  7],\n",
       "       [10,  6,  3,  9]])"
      ]
     },
     "execution_count": 84,
     "metadata": {},
     "output_type": "execute_result"
    }
   ],
   "source": [
    "# Each column is specific product (we have 4 products)\n",
    "# Each row is specific order (we have 2 order)\n",
    "order_quantities=np.array([[5,3,2,7],[10,6,3,9]])\n",
    "order_quantities"
   ]
  },
  {
   "cell_type": "code",
   "execution_count": 88,
   "id": "6ccdec72-f88f-43c6-b785-f708b3476047",
   "metadata": {},
   "outputs": [
    {
     "data": {
      "text/plain": [
       "array([15,  9,  5, 16])"
      ]
     },
     "execution_count": 88,
     "metadata": {},
     "output_type": "execute_result"
    }
   ],
   "source": [
    "#Quantities of the sales per product\n",
    "total_quantities_sold=np.sum(order_quantities,axis=0)\n",
    "total_quantities_sold"
   ]
  },
  {
   "cell_type": "code",
   "execution_count": 90,
   "id": "0296e375-e89a-40a9-aeb6-3eb6e70f1f21",
   "metadata": {},
   "outputs": [
    {
     "data": {
      "text/plain": [
       "array([17, 28])"
      ]
     },
     "execution_count": 90,
     "metadata": {},
     "output_type": "execute_result"
    }
   ],
   "source": [
    "#Quantities of the sales per order\n",
    "total_product_per_order=np.sum(order_quantities,axis=1)\n",
    "total_product_per_order"
   ]
  },
  {
   "cell_type": "code",
   "execution_count": 93,
   "id": "01e22798-1215-4b49-92a7-7eca63fbdc55",
   "metadata": {},
   "outputs": [
    {
     "data": {
      "text/plain": [
       "array([7.5, 4.5, 2.5, 8. ])"
      ]
     },
     "execution_count": 93,
     "metadata": {},
     "output_type": "execute_result"
    }
   ],
   "source": [
    "# Average quantities per product across all orders\n",
    "average_quantities_sold=np.mean(order_quantities,axis=0)\n",
    "average_quantities_sold"
   ]
  },
  {
   "cell_type": "markdown",
   "id": "ace21cfb-b5b3-4050-992d-cba883dc7f19",
   "metadata": {
    "jp-MarkdownHeadingCollapsed": true,
    "tags": []
   },
   "source": [
    "## 6. Calculate Average product Rating and Maximum rating per Category"
   ]
  },
  {
   "cell_type": "code",
   "execution_count": 96,
   "id": "5ecb8a04-f989-4a2e-b095-c6988d466d25",
   "metadata": {},
   "outputs": [
    {
     "data": {
      "text/plain": [
       "array([[4.5, 3.2, 2.5, 5. ],\n",
       "       [4.3, 3.8, 1. , 4.8],\n",
       "       [2. , 3.6, 4.7, 0.5]])"
      ]
     },
     "execution_count": 96,
     "metadata": {},
     "output_type": "execute_result"
    }
   ],
   "source": [
    "#Each row is one product\n",
    "#Each product is rated in 4 categories\n",
    "\n",
    "product_ratings=np.array([\n",
    "    [4.5,3.2,2.5,5],\n",
    "    [4.3,3.8,1.0,4.8],\n",
    "    [2,3.6,4.7,0.5],\n",
    "])\n",
    "product_ratings"
   ]
  },
  {
   "cell_type": "code",
   "execution_count": 103,
   "id": "d8115124-bbb0-4992-96ec-101c4e35cce2",
   "metadata": {},
   "outputs": [
    {
     "data": {
      "text/plain": [
       "array([3.6, 3.5, 2.7, 3.4])"
      ]
     },
     "execution_count": 103,
     "metadata": {},
     "output_type": "execute_result"
    }
   ],
   "source": [
    "# Average rating in each category\n",
    "average_ratings_per_category=np.round(np.mean(product_ratings,axis=0),1)\n",
    "average_ratings_per_category"
   ]
  },
  {
   "cell_type": "code",
   "execution_count": 104,
   "id": "826fb755-0014-4e68-ae6a-a0b136185cda",
   "metadata": {},
   "outputs": [
    {
     "data": {
      "text/plain": [
       "array([3.8, 3.5, 2.7])"
      ]
     },
     "execution_count": 104,
     "metadata": {},
     "output_type": "execute_result"
    }
   ],
   "source": [
    "# Average rating for each product\n",
    "average_ratings_per_product=np.round(np.mean(product_ratings,axis=1),1)\n",
    "average_ratings_per_product"
   ]
  },
  {
   "cell_type": "code",
   "execution_count": 107,
   "id": "266a8a09-0493-44af-9a07-d18aa202600b",
   "metadata": {},
   "outputs": [
    {
     "data": {
      "text/plain": [
       "array([4.5, 3.8, 4.7, 5. ])"
      ]
     },
     "execution_count": 107,
     "metadata": {},
     "output_type": "execute_result"
    }
   ],
   "source": [
    "# Maximum rating in each category\n",
    "max_ratings_per_category=np.max(product_ratings,axis=0)\n",
    "max_ratings_per_category"
   ]
  },
  {
   "cell_type": "markdown",
   "id": "fe7f4e7a-6ee4-4378-b7bd-d4b0b22af128",
   "metadata": {
    "jp-MarkdownHeadingCollapsed": true,
    "tags": []
   },
   "source": [
    "##  7. Generation of the sample stock data"
   ]
  },
  {
   "cell_type": "code",
   "execution_count": 148,
   "id": "7be0cd3e-45a7-4579-bb48-c6e1015dd113",
   "metadata": {},
   "outputs": [],
   "source": [
    "companies=['Google','Microsoft','Apple']\n",
    "days = ['Mon 1 April','Tue 2 April']\n",
    "price_types=['Open','Close','High','Low']\n"
   ]
  },
  {
   "cell_type": "code",
   "execution_count": 149,
   "id": "a0e32560-2214-468c-80e3-e62e2f65728f",
   "metadata": {},
   "outputs": [
    {
     "data": {
      "text/plain": [
       "array([[[0.417, 0.72 , 0.   , 0.302],\n",
       "        [0.147, 0.092, 0.186, 0.346]],\n",
       "\n",
       "       [[0.397, 0.539, 0.419, 0.685],\n",
       "        [0.204, 0.878, 0.027, 0.67 ]],\n",
       "\n",
       "       [[0.417, 0.559, 0.14 , 0.198],\n",
       "        [0.801, 0.968, 0.313, 0.692]]])"
      ]
     },
     "execution_count": 149,
     "metadata": {},
     "output_type": "execute_result"
    }
   ],
   "source": [
    "# shape will be (3,2,4)\n",
    "np.random.seed(1)\n",
    "stock_prices=np.round(np.random.random((len(companies),len(days),len(price_types))),3)\n",
    "stock_prices"
   ]
  },
  {
   "cell_type": "code",
   "execution_count": 138,
   "id": "4151b54e-070d-4508-b40e-8040bfd96352",
   "metadata": {},
   "outputs": [
    {
     "data": {
      "text/plain": [
       "(3, 2, 4)"
      ]
     },
     "execution_count": 138,
     "metadata": {},
     "output_type": "execute_result"
    }
   ],
   "source": [
    "stock_prices.shape"
   ]
  },
  {
   "cell_type": "code",
   "execution_count": 154,
   "id": "e4104052-bf51-4e80-aba8-461fd6808ee0",
   "metadata": {},
   "outputs": [
    {
     "name": "stdout",
     "output_type": "stream",
     "text": [
      "Stock prices for the Google:\n",
      "Day: Mon 1 April\n",
      "Open Price:0.417\n",
      "Close Price:0.72\n",
      "High Price:0.0\n",
      "Low Price:0.302\n",
      "\n",
      "Day: Tue 2 April\n",
      "Open Price:0.147\n",
      "Close Price:0.092\n",
      "High Price:0.186\n",
      "Low Price:0.346\n",
      "\n",
      "\n",
      "Stock prices for the Microsoft:\n",
      "Day: Mon 1 April\n",
      "Open Price:0.397\n",
      "Close Price:0.539\n",
      "High Price:0.419\n",
      "Low Price:0.685\n",
      "\n",
      "Day: Tue 2 April\n",
      "Open Price:0.204\n",
      "Close Price:0.878\n",
      "High Price:0.027\n",
      "Low Price:0.67\n",
      "\n",
      "\n",
      "Stock prices for the Apple:\n",
      "Day: Mon 1 April\n",
      "Open Price:0.417\n",
      "Close Price:0.559\n",
      "High Price:0.14\n",
      "Low Price:0.198\n",
      "\n",
      "Day: Tue 2 April\n",
      "Open Price:0.801\n",
      "Close Price:0.968\n",
      "High Price:0.313\n",
      "Low Price:0.692\n",
      "\n",
      "\n"
     ]
    }
   ],
   "source": [
    "for index_axis_0,company in enumerate(companies):\n",
    "    print(f\"Stock prices for the {company}:\")\n",
    "    for index_axis_1,day in enumerate(days):\n",
    "        print(f\"Day: {day}\")\n",
    "        for index_axis_2,price_type in enumerate(price_types):\n",
    "            print(f\"{price_type} Price:{stock_prices[index_axis_0,index_axis_1,index_axis_2]}\")\n",
    "        print('')\n",
    "    print('')"
   ]
  },
  {
   "cell_type": "code",
   "execution_count": null,
   "id": "5f6c1544-6cad-4bad-9402-9ecfd4929756",
   "metadata": {},
   "outputs": [],
   "source": [
    "\n"
   ]
  },
  {
   "cell_type": "code",
   "execution_count": null,
   "id": "39b8d4fd-079e-4214-833a-7f0cfe1cd2dc",
   "metadata": {},
   "outputs": [],
   "source": []
  }
 ],
 "metadata": {
  "kernelspec": {
   "display_name": "Python 3 (ipykernel)",
   "language": "python",
   "name": "python3"
  },
  "language_info": {
   "codemirror_mode": {
    "name": "ipython",
    "version": 3
   },
   "file_extension": ".py",
   "mimetype": "text/x-python",
   "name": "python",
   "nbconvert_exporter": "python",
   "pygments_lexer": "ipython3",
   "version": "3.9.13"
  }
 },
 "nbformat": 4,
 "nbformat_minor": 5
}
