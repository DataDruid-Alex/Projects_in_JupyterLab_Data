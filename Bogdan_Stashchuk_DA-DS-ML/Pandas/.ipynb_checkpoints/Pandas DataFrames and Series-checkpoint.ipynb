{
 "cells": [
  {
   "cell_type": "code",
   "execution_count": 1,
   "id": "ff217d65-3e9a-4964-967a-cfafa43757ed",
   "metadata": {},
   "outputs": [],
   "source": [
    "import pandas as pd\n",
    "import numpy as np"
   ]
  },
  {
   "cell_type": "markdown",
   "id": "694b60f2-7935-4689-bab1-489da7a95d8d",
   "metadata": {},
   "source": [
    "## DataFrames"
   ]
  },
  {
   "cell_type": "code",
   "execution_count": 2,
   "id": "1a8e2dd5-fa44-41c0-82a1-b2f914dede9e",
   "metadata": {},
   "outputs": [
    {
     "data": {
      "text/html": [
       "<div>\n",
       "<style scoped>\n",
       "    .dataframe tbody tr th:only-of-type {\n",
       "        vertical-align: middle;\n",
       "    }\n",
       "\n",
       "    .dataframe tbody tr th {\n",
       "        vertical-align: top;\n",
       "    }\n",
       "\n",
       "    .dataframe thead th {\n",
       "        text-align: right;\n",
       "    }\n",
       "</style>\n",
       "<table border=\"1\" class=\"dataframe\">\n",
       "  <thead>\n",
       "    <tr style=\"text-align: right;\">\n",
       "      <th></th>\n",
       "      <th>User_Id</th>\n",
       "      <th>Username</th>\n",
       "      <th>Age</th>\n",
       "      <th>Joined Date</th>\n",
       "      <th>Total Posts</th>\n",
       "      <th>Reputation</th>\n",
       "    </tr>\n",
       "  </thead>\n",
       "  <tbody>\n",
       "    <tr>\n",
       "      <th>0</th>\n",
       "      <td>1</td>\n",
       "      <td>oleksandr_s</td>\n",
       "      <td>23.0</td>\n",
       "      <td>2029-03-11</td>\n",
       "      <td>100</td>\n",
       "      <td>200</td>\n",
       "    </tr>\n",
       "    <tr>\n",
       "      <th>1</th>\n",
       "      <td>2</td>\n",
       "      <td>tom_lankaster</td>\n",
       "      <td>21.0</td>\n",
       "      <td>2028-05-03</td>\n",
       "      <td>105</td>\n",
       "      <td>289</td>\n",
       "    </tr>\n",
       "    <tr>\n",
       "      <th>2</th>\n",
       "      <td>3</td>\n",
       "      <td>data_drui</td>\n",
       "      <td>14.0</td>\n",
       "      <td>2038-03-01</td>\n",
       "      <td>129</td>\n",
       "      <td>900</td>\n",
       "    </tr>\n",
       "    <tr>\n",
       "      <th>3</th>\n",
       "      <td>4</td>\n",
       "      <td>ganlui_de_prua</td>\n",
       "      <td>99.0</td>\n",
       "      <td>2010-06-06</td>\n",
       "      <td>120</td>\n",
       "      <td>20</td>\n",
       "    </tr>\n",
       "    <tr>\n",
       "      <th>4</th>\n",
       "      <td>5</td>\n",
       "      <td>yunli_lio_dzo</td>\n",
       "      <td>34.0</td>\n",
       "      <td>2100-05-02</td>\n",
       "      <td>9</td>\n",
       "      <td>45</td>\n",
       "    </tr>\n",
       "    <tr>\n",
       "      <th>5</th>\n",
       "      <td>6</td>\n",
       "      <td>none_user</td>\n",
       "      <td>NaN</td>\n",
       "      <td>NaT</td>\n",
       "      <td>105</td>\n",
       "      <td>203</td>\n",
       "    </tr>\n",
       "  </tbody>\n",
       "</table>\n",
       "</div>"
      ],
      "text/plain": [
       "   User_Id        Username   Age Joined Date  Total Posts  Reputation\n",
       "0        1     oleksandr_s  23.0  2029-03-11          100         200\n",
       "1        2   tom_lankaster  21.0  2028-05-03          105         289\n",
       "2        3       data_drui  14.0  2038-03-01          129         900\n",
       "3        4  ganlui_de_prua  99.0  2010-06-06          120          20\n",
       "4        5   yunli_lio_dzo  34.0  2100-05-02            9          45\n",
       "5        6       none_user   NaN         NaT          105         203"
      ]
     },
     "execution_count": 2,
     "metadata": {},
     "output_type": "execute_result"
    }
   ],
   "source": [
    "forum_users={\n",
    "    'User_Id':np.array([1,2,3,4,5,6]),\n",
    "    'Username':['oleksandr_s','tom_lankaster','data_drui','ganlui_de_prua','yunli_lio_dzo' ,'none_user'],\n",
    "    'Age':[23,21,14,99,34,None],\n",
    "    'Joined Date':pd.to_datetime(['2029-03-11','2028-05-03','2038-03-01','2010-06-06','2100-05-02',None]),\n",
    "    'Total Posts':[100,105,129,120,9,105],\n",
    "    'Reputation': [200,289,900,20,45,203],\n",
    "}\n",
    "df=pd.DataFrame(forum_users)\n",
    "df"
   ]
  },
  {
   "cell_type": "code",
   "execution_count": 3,
   "id": "905e951c-05f3-4a30-9bdc-9a3f775011db",
   "metadata": {},
   "outputs": [
    {
     "data": {
      "text/plain": [
       "(6, 6)"
      ]
     },
     "execution_count": 3,
     "metadata": {},
     "output_type": "execute_result"
    }
   ],
   "source": [
    "df.shape"
   ]
  },
  {
   "cell_type": "code",
   "execution_count": 4,
   "id": "3112e3da-5a96-4632-81a0-add7f2c0a152",
   "metadata": {},
   "outputs": [
    {
     "data": {
      "text/plain": [
       "pandas.core.frame.DataFrame"
      ]
     },
     "execution_count": 4,
     "metadata": {},
     "output_type": "execute_result"
    }
   ],
   "source": [
    "type(df)"
   ]
  },
  {
   "cell_type": "code",
   "execution_count": 5,
   "id": "67890aa6-d5cb-4d3f-b3e1-3ef8890ff740",
   "metadata": {},
   "outputs": [
    {
     "data": {
      "text/plain": [
       "Index(['User_Id', 'Username', 'Age', 'Joined Date', 'Total Posts',\n",
       "       'Reputation'],\n",
       "      dtype='object')"
      ]
     },
     "execution_count": 5,
     "metadata": {},
     "output_type": "execute_result"
    }
   ],
   "source": [
    "df.columns"
   ]
  },
  {
   "cell_type": "code",
   "execution_count": 6,
   "id": "67119842-ce21-4f79-9199-5e511041c439",
   "metadata": {},
   "outputs": [
    {
     "data": {
      "text/plain": [
       "pandas.core.indexes.base.Index"
      ]
     },
     "execution_count": 6,
     "metadata": {},
     "output_type": "execute_result"
    }
   ],
   "source": [
    "type(df.columns)"
   ]
  },
  {
   "cell_type": "code",
   "execution_count": 7,
   "id": "d7847798-11a7-44df-ab1d-256cfbc02f09",
   "metadata": {},
   "outputs": [
    {
     "data": {
      "text/plain": [
       "['User_Id', 'Username', 'Age', 'Joined Date', 'Total Posts', 'Reputation']"
      ]
     },
     "execution_count": 7,
     "metadata": {},
     "output_type": "execute_result"
    }
   ],
   "source": [
    "df.columns.tolist()"
   ]
  },
  {
   "cell_type": "code",
   "execution_count": 8,
   "id": "b52dbb4b-2299-4306-aca8-88c68409876c",
   "metadata": {},
   "outputs": [
    {
     "data": {
      "text/plain": [
       "RangeIndex(start=0, stop=6, step=1)"
      ]
     },
     "execution_count": 8,
     "metadata": {},
     "output_type": "execute_result"
    }
   ],
   "source": [
    "df.index"
   ]
  },
  {
   "cell_type": "code",
   "execution_count": 9,
   "id": "339b3f7c-004a-456b-9c44-c1eaa4dfb1ce",
   "metadata": {},
   "outputs": [
    {
     "data": {
      "text/plain": [
       "[0, 1, 2, 3, 4, 5]"
      ]
     },
     "execution_count": 9,
     "metadata": {},
     "output_type": "execute_result"
    }
   ],
   "source": [
    "df.index.tolist()"
   ]
  },
  {
   "cell_type": "code",
   "execution_count": 10,
   "id": "e123811d-8094-47b8-aca0-66c7e2bd328e",
   "metadata": {},
   "outputs": [
    {
     "data": {
      "text/plain": [
       "User_Id                 int32\n",
       "Username               object\n",
       "Age                   float64\n",
       "Joined Date    datetime64[ns]\n",
       "Total Posts             int64\n",
       "Reputation              int64\n",
       "dtype: object"
      ]
     },
     "execution_count": 10,
     "metadata": {},
     "output_type": "execute_result"
    }
   ],
   "source": [
    "df.dtypes"
   ]
  },
  {
   "cell_type": "code",
   "execution_count": 11,
   "id": "3502a09c-118c-4f1d-8cb5-ed4963ef4018",
   "metadata": {},
   "outputs": [
    {
     "data": {
      "text/plain": [
       "array([[1, 'oleksandr_s', 23.0, Timestamp('2029-03-11 00:00:00'), 100,\n",
       "        200],\n",
       "       [2, 'tom_lankaster', 21.0, Timestamp('2028-05-03 00:00:00'), 105,\n",
       "        289],\n",
       "       [3, 'data_drui', 14.0, Timestamp('2038-03-01 00:00:00'), 129, 900],\n",
       "       [4, 'ganlui_de_prua', 99.0, Timestamp('2010-06-06 00:00:00'), 120,\n",
       "        20],\n",
       "       [5, 'yunli_lio_dzo', 34.0, Timestamp('2100-05-02 00:00:00'), 9,\n",
       "        45],\n",
       "       [6, 'none_user', nan, NaT, 105, 203]], dtype=object)"
      ]
     },
     "execution_count": 11,
     "metadata": {},
     "output_type": "execute_result"
    }
   ],
   "source": [
    "df.values"
   ]
  },
  {
   "cell_type": "code",
   "execution_count": 12,
   "id": "edf3dc62-5f74-45f4-b216-53c7e320c651",
   "metadata": {},
   "outputs": [
    {
     "data": {
      "text/plain": [
       "numpy.ndarray"
      ]
     },
     "execution_count": 12,
     "metadata": {},
     "output_type": "execute_result"
    }
   ],
   "source": [
    "type(df.values)"
   ]
  },
  {
   "cell_type": "code",
   "execution_count": 13,
   "id": "de5f494e-80d6-4fba-a6a1-5d5d6bfb5346",
   "metadata": {},
   "outputs": [
    {
     "data": {
      "text/plain": [
       "21.0"
      ]
     },
     "execution_count": 13,
     "metadata": {},
     "output_type": "execute_result"
    }
   ],
   "source": [
    "df.values[1,2]"
   ]
  },
  {
   "cell_type": "code",
   "execution_count": 14,
   "id": "1ea8bf9e-3a2a-42fe-a6d8-02914aed3504",
   "metadata": {},
   "outputs": [
    {
     "data": {
      "text/html": [
       "<div>\n",
       "<style scoped>\n",
       "    .dataframe tbody tr th:only-of-type {\n",
       "        vertical-align: middle;\n",
       "    }\n",
       "\n",
       "    .dataframe tbody tr th {\n",
       "        vertical-align: top;\n",
       "    }\n",
       "\n",
       "    .dataframe thead th {\n",
       "        text-align: right;\n",
       "    }\n",
       "</style>\n",
       "<table border=\"1\" class=\"dataframe\">\n",
       "  <thead>\n",
       "    <tr style=\"text-align: right;\">\n",
       "      <th></th>\n",
       "      <th>User_Id</th>\n",
       "      <th>Username</th>\n",
       "      <th>Age</th>\n",
       "      <th>Joined Date</th>\n",
       "      <th>Total Posts</th>\n",
       "      <th>Reputation</th>\n",
       "    </tr>\n",
       "  </thead>\n",
       "  <tbody>\n",
       "    <tr>\n",
       "      <th>0</th>\n",
       "      <td>1</td>\n",
       "      <td>oleksandr_s</td>\n",
       "      <td>23.0</td>\n",
       "      <td>2029-03-11</td>\n",
       "      <td>100</td>\n",
       "      <td>200</td>\n",
       "    </tr>\n",
       "    <tr>\n",
       "      <th>1</th>\n",
       "      <td>2</td>\n",
       "      <td>tom_lankaster</td>\n",
       "      <td>21.0</td>\n",
       "      <td>2028-05-03</td>\n",
       "      <td>105</td>\n",
       "      <td>289</td>\n",
       "    </tr>\n",
       "    <tr>\n",
       "      <th>2</th>\n",
       "      <td>3</td>\n",
       "      <td>data_drui</td>\n",
       "      <td>14.0</td>\n",
       "      <td>2038-03-01</td>\n",
       "      <td>129</td>\n",
       "      <td>900</td>\n",
       "    </tr>\n",
       "  </tbody>\n",
       "</table>\n",
       "</div>"
      ],
      "text/plain": [
       "   User_Id       Username   Age Joined Date  Total Posts  Reputation\n",
       "0        1    oleksandr_s  23.0  2029-03-11          100         200\n",
       "1        2  tom_lankaster  21.0  2028-05-03          105         289\n",
       "2        3      data_drui  14.0  2038-03-01          129         900"
      ]
     },
     "execution_count": 14,
     "metadata": {},
     "output_type": "execute_result"
    }
   ],
   "source": [
    "df.head(3)"
   ]
  },
  {
   "cell_type": "code",
   "execution_count": 15,
   "id": "158ab115-2931-4550-8c67-037ca57538e7",
   "metadata": {},
   "outputs": [
    {
     "data": {
      "text/html": [
       "<div>\n",
       "<style scoped>\n",
       "    .dataframe tbody tr th:only-of-type {\n",
       "        vertical-align: middle;\n",
       "    }\n",
       "\n",
       "    .dataframe tbody tr th {\n",
       "        vertical-align: top;\n",
       "    }\n",
       "\n",
       "    .dataframe thead th {\n",
       "        text-align: right;\n",
       "    }\n",
       "</style>\n",
       "<table border=\"1\" class=\"dataframe\">\n",
       "  <thead>\n",
       "    <tr style=\"text-align: right;\">\n",
       "      <th></th>\n",
       "      <th>User_Id</th>\n",
       "      <th>Username</th>\n",
       "      <th>Age</th>\n",
       "      <th>Joined Date</th>\n",
       "      <th>Total Posts</th>\n",
       "      <th>Reputation</th>\n",
       "    </tr>\n",
       "  </thead>\n",
       "  <tbody>\n",
       "    <tr>\n",
       "      <th>3</th>\n",
       "      <td>4</td>\n",
       "      <td>ganlui_de_prua</td>\n",
       "      <td>99.0</td>\n",
       "      <td>2010-06-06</td>\n",
       "      <td>120</td>\n",
       "      <td>20</td>\n",
       "    </tr>\n",
       "    <tr>\n",
       "      <th>4</th>\n",
       "      <td>5</td>\n",
       "      <td>yunli_lio_dzo</td>\n",
       "      <td>34.0</td>\n",
       "      <td>2100-05-02</td>\n",
       "      <td>9</td>\n",
       "      <td>45</td>\n",
       "    </tr>\n",
       "    <tr>\n",
       "      <th>5</th>\n",
       "      <td>6</td>\n",
       "      <td>none_user</td>\n",
       "      <td>NaN</td>\n",
       "      <td>NaT</td>\n",
       "      <td>105</td>\n",
       "      <td>203</td>\n",
       "    </tr>\n",
       "  </tbody>\n",
       "</table>\n",
       "</div>"
      ],
      "text/plain": [
       "   User_Id        Username   Age Joined Date  Total Posts  Reputation\n",
       "3        4  ganlui_de_prua  99.0  2010-06-06          120          20\n",
       "4        5   yunli_lio_dzo  34.0  2100-05-02            9          45\n",
       "5        6       none_user   NaN         NaT          105         203"
      ]
     },
     "execution_count": 15,
     "metadata": {},
     "output_type": "execute_result"
    }
   ],
   "source": [
    "df.tail(3)"
   ]
  },
  {
   "cell_type": "code",
   "execution_count": 16,
   "id": "668d4fe1-0c46-4e4c-9f0d-162b43d507f3",
   "metadata": {},
   "outputs": [
    {
     "data": {
      "text/html": [
       "<div>\n",
       "<style scoped>\n",
       "    .dataframe tbody tr th:only-of-type {\n",
       "        vertical-align: middle;\n",
       "    }\n",
       "\n",
       "    .dataframe tbody tr th {\n",
       "        vertical-align: top;\n",
       "    }\n",
       "\n",
       "    .dataframe thead th {\n",
       "        text-align: right;\n",
       "    }\n",
       "</style>\n",
       "<table border=\"1\" class=\"dataframe\">\n",
       "  <thead>\n",
       "    <tr style=\"text-align: right;\">\n",
       "      <th></th>\n",
       "      <th>User_Id</th>\n",
       "      <th>Age</th>\n",
       "      <th>Total Posts</th>\n",
       "      <th>Reputation</th>\n",
       "    </tr>\n",
       "  </thead>\n",
       "  <tbody>\n",
       "    <tr>\n",
       "      <th>count</th>\n",
       "      <td>6.00</td>\n",
       "      <td>5.00</td>\n",
       "      <td>6.00</td>\n",
       "      <td>6.00</td>\n",
       "    </tr>\n",
       "    <tr>\n",
       "      <th>mean</th>\n",
       "      <td>3.50</td>\n",
       "      <td>38.20</td>\n",
       "      <td>94.67</td>\n",
       "      <td>276.17</td>\n",
       "    </tr>\n",
       "    <tr>\n",
       "      <th>std</th>\n",
       "      <td>1.87</td>\n",
       "      <td>34.74</td>\n",
       "      <td>43.36</td>\n",
       "      <td>322.35</td>\n",
       "    </tr>\n",
       "    <tr>\n",
       "      <th>min</th>\n",
       "      <td>1.00</td>\n",
       "      <td>14.00</td>\n",
       "      <td>9.00</td>\n",
       "      <td>20.00</td>\n",
       "    </tr>\n",
       "    <tr>\n",
       "      <th>25%</th>\n",
       "      <td>2.25</td>\n",
       "      <td>21.00</td>\n",
       "      <td>101.25</td>\n",
       "      <td>83.75</td>\n",
       "    </tr>\n",
       "    <tr>\n",
       "      <th>50%</th>\n",
       "      <td>3.50</td>\n",
       "      <td>23.00</td>\n",
       "      <td>105.00</td>\n",
       "      <td>201.50</td>\n",
       "    </tr>\n",
       "    <tr>\n",
       "      <th>75%</th>\n",
       "      <td>4.75</td>\n",
       "      <td>34.00</td>\n",
       "      <td>116.25</td>\n",
       "      <td>267.50</td>\n",
       "    </tr>\n",
       "    <tr>\n",
       "      <th>max</th>\n",
       "      <td>6.00</td>\n",
       "      <td>99.00</td>\n",
       "      <td>129.00</td>\n",
       "      <td>900.00</td>\n",
       "    </tr>\n",
       "  </tbody>\n",
       "</table>\n",
       "</div>"
      ],
      "text/plain": [
       "       User_Id    Age  Total Posts  Reputation\n",
       "count     6.00   5.00         6.00        6.00\n",
       "mean      3.50  38.20        94.67      276.17\n",
       "std       1.87  34.74        43.36      322.35\n",
       "min       1.00  14.00         9.00       20.00\n",
       "25%       2.25  21.00       101.25       83.75\n",
       "50%       3.50  23.00       105.00      201.50\n",
       "75%       4.75  34.00       116.25      267.50\n",
       "max       6.00  99.00       129.00      900.00"
      ]
     },
     "execution_count": 16,
     "metadata": {},
     "output_type": "execute_result"
    }
   ],
   "source": [
    "df.describe().round(2)"
   ]
  },
  {
   "cell_type": "code",
   "execution_count": 17,
   "id": "0b2c1f7a-1130-4e96-86a4-c9b1acee6643",
   "metadata": {},
   "outputs": [
    {
     "data": {
      "text/plain": [
       "pandas.core.frame.DataFrame"
      ]
     },
     "execution_count": 17,
     "metadata": {},
     "output_type": "execute_result"
    }
   ],
   "source": [
    "type(df.describe())"
   ]
  },
  {
   "cell_type": "code",
   "execution_count": 18,
   "id": "0d942f40-3185-4bf5-b1b5-8502f16a0cb9",
   "metadata": {},
   "outputs": [
    {
     "data": {
      "text/plain": [
       "Index(['count', 'mean', 'std', 'min', '25%', '50%', '75%', 'max'], dtype='object')"
      ]
     },
     "execution_count": 18,
     "metadata": {},
     "output_type": "execute_result"
    }
   ],
   "source": [
    "df.describe().index"
   ]
  },
  {
   "cell_type": "code",
   "execution_count": 19,
   "id": "a70bfb87-84b3-40c3-9884-c513d48078ba",
   "metadata": {},
   "outputs": [
    {
     "data": {
      "text/html": [
       "<div>\n",
       "<style scoped>\n",
       "    .dataframe tbody tr th:only-of-type {\n",
       "        vertical-align: middle;\n",
       "    }\n",
       "\n",
       "    .dataframe tbody tr th {\n",
       "        vertical-align: top;\n",
       "    }\n",
       "\n",
       "    .dataframe thead th {\n",
       "        text-align: right;\n",
       "    }\n",
       "</style>\n",
       "<table border=\"1\" class=\"dataframe\">\n",
       "  <thead>\n",
       "    <tr style=\"text-align: right;\">\n",
       "      <th></th>\n",
       "      <th>Username</th>\n",
       "    </tr>\n",
       "  </thead>\n",
       "  <tbody>\n",
       "    <tr>\n",
       "      <th>0</th>\n",
       "      <td>oleksandr_s</td>\n",
       "    </tr>\n",
       "    <tr>\n",
       "      <th>1</th>\n",
       "      <td>tom_lankaster</td>\n",
       "    </tr>\n",
       "    <tr>\n",
       "      <th>2</th>\n",
       "      <td>data_drui</td>\n",
       "    </tr>\n",
       "    <tr>\n",
       "      <th>3</th>\n",
       "      <td>ganlui_de_prua</td>\n",
       "    </tr>\n",
       "    <tr>\n",
       "      <th>4</th>\n",
       "      <td>yunli_lio_dzo</td>\n",
       "    </tr>\n",
       "    <tr>\n",
       "      <th>5</th>\n",
       "      <td>none_user</td>\n",
       "    </tr>\n",
       "  </tbody>\n",
       "</table>\n",
       "</div>"
      ],
      "text/plain": [
       "         Username\n",
       "0     oleksandr_s\n",
       "1   tom_lankaster\n",
       "2       data_drui\n",
       "3  ganlui_de_prua\n",
       "4   yunli_lio_dzo\n",
       "5       none_user"
      ]
     },
     "execution_count": 19,
     "metadata": {},
     "output_type": "execute_result"
    }
   ],
   "source": [
    "df.select_dtypes(include='object')"
   ]
  },
  {
   "cell_type": "code",
   "execution_count": 20,
   "id": "1c4dedfa-caee-46bd-a48c-d44e757feeb5",
   "metadata": {},
   "outputs": [
    {
     "data": {
      "text/plain": [
       "Index(['Username'], dtype='object')"
      ]
     },
     "execution_count": 20,
     "metadata": {},
     "output_type": "execute_result"
    }
   ],
   "source": [
    "df.select_dtypes(include='object').columns"
   ]
  },
  {
   "cell_type": "code",
   "execution_count": 21,
   "id": "576bebce-6cc7-4a3b-ae2d-cbc45fe2b744",
   "metadata": {},
   "outputs": [
    {
     "data": {
      "text/html": [
       "<div>\n",
       "<style scoped>\n",
       "    .dataframe tbody tr th:only-of-type {\n",
       "        vertical-align: middle;\n",
       "    }\n",
       "\n",
       "    .dataframe tbody tr th {\n",
       "        vertical-align: top;\n",
       "    }\n",
       "\n",
       "    .dataframe thead th {\n",
       "        text-align: right;\n",
       "    }\n",
       "</style>\n",
       "<table border=\"1\" class=\"dataframe\">\n",
       "  <thead>\n",
       "    <tr style=\"text-align: right;\">\n",
       "      <th></th>\n",
       "      <th>User_Id</th>\n",
       "      <th>Age</th>\n",
       "      <th>Joined Date</th>\n",
       "      <th>Total Posts</th>\n",
       "      <th>Reputation</th>\n",
       "    </tr>\n",
       "  </thead>\n",
       "  <tbody>\n",
       "    <tr>\n",
       "      <th>0</th>\n",
       "      <td>1</td>\n",
       "      <td>23.0</td>\n",
       "      <td>2029-03-11</td>\n",
       "      <td>100</td>\n",
       "      <td>200</td>\n",
       "    </tr>\n",
       "    <tr>\n",
       "      <th>1</th>\n",
       "      <td>2</td>\n",
       "      <td>21.0</td>\n",
       "      <td>2028-05-03</td>\n",
       "      <td>105</td>\n",
       "      <td>289</td>\n",
       "    </tr>\n",
       "    <tr>\n",
       "      <th>2</th>\n",
       "      <td>3</td>\n",
       "      <td>14.0</td>\n",
       "      <td>2038-03-01</td>\n",
       "      <td>129</td>\n",
       "      <td>900</td>\n",
       "    </tr>\n",
       "    <tr>\n",
       "      <th>3</th>\n",
       "      <td>4</td>\n",
       "      <td>99.0</td>\n",
       "      <td>2010-06-06</td>\n",
       "      <td>120</td>\n",
       "      <td>20</td>\n",
       "    </tr>\n",
       "    <tr>\n",
       "      <th>4</th>\n",
       "      <td>5</td>\n",
       "      <td>34.0</td>\n",
       "      <td>2100-05-02</td>\n",
       "      <td>9</td>\n",
       "      <td>45</td>\n",
       "    </tr>\n",
       "    <tr>\n",
       "      <th>5</th>\n",
       "      <td>6</td>\n",
       "      <td>NaN</td>\n",
       "      <td>NaT</td>\n",
       "      <td>105</td>\n",
       "      <td>203</td>\n",
       "    </tr>\n",
       "  </tbody>\n",
       "</table>\n",
       "</div>"
      ],
      "text/plain": [
       "   User_Id   Age Joined Date  Total Posts  Reputation\n",
       "0        1  23.0  2029-03-11          100         200\n",
       "1        2  21.0  2028-05-03          105         289\n",
       "2        3  14.0  2038-03-01          129         900\n",
       "3        4  99.0  2010-06-06          120          20\n",
       "4        5  34.0  2100-05-02            9          45\n",
       "5        6   NaN         NaT          105         203"
      ]
     },
     "execution_count": 21,
     "metadata": {},
     "output_type": "execute_result"
    }
   ],
   "source": [
    "df.select_dtypes(exclude='object')"
   ]
  },
  {
   "cell_type": "code",
   "execution_count": 22,
   "id": "7bd9b4a0-8f28-49b4-b7d7-6ab96a8ea40f",
   "metadata": {},
   "outputs": [
    {
     "data": {
      "text/html": [
       "<div>\n",
       "<style scoped>\n",
       "    .dataframe tbody tr th:only-of-type {\n",
       "        vertical-align: middle;\n",
       "    }\n",
       "\n",
       "    .dataframe tbody tr th {\n",
       "        vertical-align: top;\n",
       "    }\n",
       "\n",
       "    .dataframe thead th {\n",
       "        text-align: right;\n",
       "    }\n",
       "</style>\n",
       "<table border=\"1\" class=\"dataframe\">\n",
       "  <thead>\n",
       "    <tr style=\"text-align: right;\">\n",
       "      <th></th>\n",
       "      <th>Total Posts</th>\n",
       "      <th>Reputation</th>\n",
       "    </tr>\n",
       "  </thead>\n",
       "  <tbody>\n",
       "    <tr>\n",
       "      <th>0</th>\n",
       "      <td>100</td>\n",
       "      <td>200</td>\n",
       "    </tr>\n",
       "    <tr>\n",
       "      <th>1</th>\n",
       "      <td>105</td>\n",
       "      <td>289</td>\n",
       "    </tr>\n",
       "    <tr>\n",
       "      <th>2</th>\n",
       "      <td>129</td>\n",
       "      <td>900</td>\n",
       "    </tr>\n",
       "    <tr>\n",
       "      <th>3</th>\n",
       "      <td>120</td>\n",
       "      <td>20</td>\n",
       "    </tr>\n",
       "    <tr>\n",
       "      <th>4</th>\n",
       "      <td>9</td>\n",
       "      <td>45</td>\n",
       "    </tr>\n",
       "    <tr>\n",
       "      <th>5</th>\n",
       "      <td>105</td>\n",
       "      <td>203</td>\n",
       "    </tr>\n",
       "  </tbody>\n",
       "</table>\n",
       "</div>"
      ],
      "text/plain": [
       "   Total Posts  Reputation\n",
       "0          100         200\n",
       "1          105         289\n",
       "2          129         900\n",
       "3          120          20\n",
       "4            9          45\n",
       "5          105         203"
      ]
     },
     "execution_count": 22,
     "metadata": {},
     "output_type": "execute_result"
    }
   ],
   "source": [
    "df.select_dtypes(include='int64')"
   ]
  },
  {
   "cell_type": "code",
   "execution_count": 23,
   "id": "6bddb69a-133f-47c1-ad40-5ae9e731dc91",
   "metadata": {},
   "outputs": [
    {
     "data": {
      "text/plain": [
       "User_Id        0\n",
       "Username       0\n",
       "Age            1\n",
       "Joined Date    1\n",
       "Total Posts    0\n",
       "Reputation     0\n",
       "dtype: int64"
      ]
     },
     "execution_count": 23,
     "metadata": {},
     "output_type": "execute_result"
    }
   ],
   "source": [
    "df.isna().sum()"
   ]
  },
  {
   "cell_type": "code",
   "execution_count": 24,
   "id": "e49f7968-779b-4575-8482-0b49495c4636",
   "metadata": {},
   "outputs": [
    {
     "data": {
      "text/plain": [
       "pandas.core.series.Series"
      ]
     },
     "execution_count": 24,
     "metadata": {},
     "output_type": "execute_result"
    }
   ],
   "source": [
    "type(df.isna().sum())"
   ]
  },
  {
   "cell_type": "code",
   "execution_count": 25,
   "id": "95a04615-c511-4641-a5c8-c366a9ba059a",
   "metadata": {},
   "outputs": [
    {
     "data": {
      "text/html": [
       "<div>\n",
       "<style scoped>\n",
       "    .dataframe tbody tr th:only-of-type {\n",
       "        vertical-align: middle;\n",
       "    }\n",
       "\n",
       "    .dataframe tbody tr th {\n",
       "        vertical-align: top;\n",
       "    }\n",
       "\n",
       "    .dataframe thead th {\n",
       "        text-align: right;\n",
       "    }\n",
       "</style>\n",
       "<table border=\"1\" class=\"dataframe\">\n",
       "  <thead>\n",
       "    <tr style=\"text-align: right;\">\n",
       "      <th></th>\n",
       "      <th>User_Id</th>\n",
       "      <th>Age</th>\n",
       "      <th>Joined Date</th>\n",
       "    </tr>\n",
       "  </thead>\n",
       "  <tbody>\n",
       "    <tr>\n",
       "      <th>0</th>\n",
       "      <td>1</td>\n",
       "      <td>23.0</td>\n",
       "      <td>2029-03-11</td>\n",
       "    </tr>\n",
       "    <tr>\n",
       "      <th>1</th>\n",
       "      <td>2</td>\n",
       "      <td>21.0</td>\n",
       "      <td>2028-05-03</td>\n",
       "    </tr>\n",
       "    <tr>\n",
       "      <th>2</th>\n",
       "      <td>3</td>\n",
       "      <td>14.0</td>\n",
       "      <td>2038-03-01</td>\n",
       "    </tr>\n",
       "    <tr>\n",
       "      <th>3</th>\n",
       "      <td>4</td>\n",
       "      <td>99.0</td>\n",
       "      <td>2010-06-06</td>\n",
       "    </tr>\n",
       "    <tr>\n",
       "      <th>4</th>\n",
       "      <td>5</td>\n",
       "      <td>34.0</td>\n",
       "      <td>2100-05-02</td>\n",
       "    </tr>\n",
       "    <tr>\n",
       "      <th>5</th>\n",
       "      <td>6</td>\n",
       "      <td>NaN</td>\n",
       "      <td>NaT</td>\n",
       "    </tr>\n",
       "  </tbody>\n",
       "</table>\n",
       "</div>"
      ],
      "text/plain": [
       "   User_Id   Age Joined Date\n",
       "0        1  23.0  2029-03-11\n",
       "1        2  21.0  2028-05-03\n",
       "2        3  14.0  2038-03-01\n",
       "3        4  99.0  2010-06-06\n",
       "4        5  34.0  2100-05-02\n",
       "5        6   NaN         NaT"
      ]
     },
     "execution_count": 25,
     "metadata": {},
     "output_type": "execute_result"
    }
   ],
   "source": [
    "df.select_dtypes(exclude=['object','int64'])"
   ]
  },
  {
   "cell_type": "markdown",
   "id": "d0b348be-e2b6-4ebc-85c1-f3ad698333df",
   "metadata": {},
   "source": [
    "## Series"
   ]
  },
  {
   "cell_type": "code",
   "execution_count": 26,
   "id": "62cbeb09-65ac-42eb-822f-0e1d17fb6b64",
   "metadata": {},
   "outputs": [
    {
     "data": {
      "text/plain": [
       "0       oleksandr_s\n",
       "1     tom_lankaster\n",
       "2         data_drui\n",
       "3    ganlui_de_prua\n",
       "4     yunli_lio_dzo\n",
       "5         none_user\n",
       "Name: Username, dtype: object"
      ]
     },
     "execution_count": 26,
     "metadata": {},
     "output_type": "execute_result"
    }
   ],
   "source": [
    "username_series=df['Username']\n",
    "username_series"
   ]
  },
  {
   "cell_type": "code",
   "execution_count": 27,
   "id": "97928575-42c6-4c3f-b1ee-178d5a88f97f",
   "metadata": {},
   "outputs": [
    {
     "data": {
      "text/plain": [
       "pandas.core.series.Series"
      ]
     },
     "execution_count": 27,
     "metadata": {},
     "output_type": "execute_result"
    }
   ],
   "source": [
    "type(username_series)"
   ]
  },
  {
   "cell_type": "code",
   "execution_count": 28,
   "id": "a0938525-21a9-4467-8477-1afd8e8127a2",
   "metadata": {},
   "outputs": [
    {
     "data": {
      "text/plain": [
       "array(['oleksandr_s', 'tom_lankaster', 'data_drui', 'ganlui_de_prua',\n",
       "       'yunli_lio_dzo', 'none_user'], dtype=object)"
      ]
     },
     "execution_count": 28,
     "metadata": {},
     "output_type": "execute_result"
    }
   ],
   "source": [
    "username_series.values"
   ]
  },
  {
   "cell_type": "code",
   "execution_count": 29,
   "id": "c0674772-d708-4f57-ab2d-9323e994a339",
   "metadata": {},
   "outputs": [
    {
     "data": {
      "text/plain": [
       "numpy.ndarray"
      ]
     },
     "execution_count": 29,
     "metadata": {},
     "output_type": "execute_result"
    }
   ],
   "source": [
    "type(username_series.values)"
   ]
  },
  {
   "cell_type": "code",
   "execution_count": 30,
   "id": "8039b823-6d81-4118-84d6-92947c00f1ac",
   "metadata": {},
   "outputs": [
    {
     "data": {
      "text/plain": [
       "RangeIndex(start=0, stop=6, step=1)"
      ]
     },
     "execution_count": 30,
     "metadata": {},
     "output_type": "execute_result"
    }
   ],
   "source": [
    "username_series.index"
   ]
  },
  {
   "cell_type": "code",
   "execution_count": 31,
   "id": "2b56847d-f2aa-4ba8-8ba4-0a2063a9dfa3",
   "metadata": {},
   "outputs": [
    {
     "data": {
      "text/plain": [
       "oleksandr_s       1\n",
       "tom_lankaster     1\n",
       "data_drui         1\n",
       "ganlui_de_prua    1\n",
       "yunli_lio_dzo     1\n",
       "none_user         1\n",
       "Name: Username, dtype: int64"
      ]
     },
     "execution_count": 31,
     "metadata": {},
     "output_type": "execute_result"
    }
   ],
   "source": [
    "username_series.value_counts()"
   ]
  },
  {
   "cell_type": "code",
   "execution_count": 32,
   "id": "202c8afc-8ead-4c92-a406-6cea4272ce81",
   "metadata": {},
   "outputs": [
    {
     "data": {
      "text/plain": [
       "oleksandr_s       1\n",
       "tom_lankaster     1\n",
       "data_drui         1\n",
       "ganlui_de_prua    1\n",
       "yunli_lio_dzo     1\n",
       "none_user         1\n",
       "Name: Username, dtype: int64"
      ]
     },
     "execution_count": 32,
     "metadata": {},
     "output_type": "execute_result"
    }
   ],
   "source": [
    "df['Username'].value_counts()"
   ]
  },
  {
   "cell_type": "code",
   "execution_count": 33,
   "id": "abe93cbb-3ae4-41f6-8b97-1d0869494bf8",
   "metadata": {},
   "outputs": [
    {
     "data": {
      "text/plain": [
       "array([1, 1, 1, 1, 1, 1], dtype=int64)"
      ]
     },
     "execution_count": 33,
     "metadata": {},
     "output_type": "execute_result"
    }
   ],
   "source": [
    "df['Username'].value_counts().values"
   ]
  },
  {
   "cell_type": "code",
   "execution_count": 34,
   "id": "a6f1ddcb-764a-4c86-8468-331475e95c47",
   "metadata": {},
   "outputs": [
    {
     "data": {
      "text/plain": [
       "Index(['oleksandr_s', 'tom_lankaster', 'data_drui', 'ganlui_de_prua',\n",
       "       'yunli_lio_dzo', 'none_user'],\n",
       "      dtype='object')"
      ]
     },
     "execution_count": 34,
     "metadata": {},
     "output_type": "execute_result"
    }
   ],
   "source": [
    "df['Username'].value_counts().index"
   ]
  },
  {
   "cell_type": "code",
   "execution_count": 36,
   "id": "20c950ac-8c68-4fa8-a151-d0a5abfb8c32",
   "metadata": {},
   "outputs": [
    {
     "data": {
      "text/plain": [
       "105    2\n",
       "100    1\n",
       "129    1\n",
       "120    1\n",
       "9      1\n",
       "Name: Total Posts, dtype: int64"
      ]
     },
     "execution_count": 36,
     "metadata": {},
     "output_type": "execute_result"
    }
   ],
   "source": [
    "df['Total Posts'].value_counts()"
   ]
  },
  {
   "cell_type": "code",
   "execution_count": 38,
   "id": "9aeaafd4-2faf-4b4f-8af0-cada19e6b501",
   "metadata": {},
   "outputs": [
    {
     "data": {
      "text/plain": [
       "100    1\n",
       "129    1\n",
       "120    1\n",
       "9      1\n",
       "105    2\n",
       "Name: Total Posts, dtype: int64"
      ]
     },
     "execution_count": 38,
     "metadata": {},
     "output_type": "execute_result"
    }
   ],
   "source": [
    "df['Total Posts'].value_counts(ascending=True)"
   ]
  },
  {
   "cell_type": "code",
   "execution_count": 37,
   "id": "f09e5f1e-be34-44c7-a433-87515f88f285",
   "metadata": {},
   "outputs": [
    {
     "data": {
      "text/plain": [
       "Int64Index([105, 100, 129, 120, 9], dtype='int64')"
      ]
     },
     "execution_count": 37,
     "metadata": {},
     "output_type": "execute_result"
    }
   ],
   "source": [
    "df['Total Posts'].value_counts().index"
   ]
  },
  {
   "cell_type": "code",
   "execution_count": 39,
   "id": "ca1c5c60-ffaa-4343-842b-e26aab5c90ed",
   "metadata": {},
   "outputs": [
    {
     "data": {
      "text/plain": [
       "array([100, 105, 129, 120,   9], dtype=int64)"
      ]
     },
     "execution_count": 39,
     "metadata": {},
     "output_type": "execute_result"
    }
   ],
   "source": [
    "df['Total Posts'].unique()"
   ]
  },
  {
   "cell_type": "code",
   "execution_count": 40,
   "id": "8f38e8ad-1ba3-430e-ab1b-94dcc2e2c3f4",
   "metadata": {},
   "outputs": [
    {
     "data": {
      "text/plain": [
       "2         data_drui\n",
       "3    ganlui_de_prua\n",
       "5         none_user\n",
       "0       oleksandr_s\n",
       "1     tom_lankaster\n",
       "4     yunli_lio_dzo\n",
       "Name: Username, dtype: object"
      ]
     },
     "execution_count": 40,
     "metadata": {},
     "output_type": "execute_result"
    }
   ],
   "source": [
    "username_series.sort_values()"
   ]
  },
  {
   "cell_type": "code",
   "execution_count": 41,
   "id": "27cc55e9-d0f7-4b1f-b9b8-21f43197d8cf",
   "metadata": {},
   "outputs": [
    {
     "data": {
      "text/plain": [
       "4     yunli_lio_dzo\n",
       "1     tom_lankaster\n",
       "0       oleksandr_s\n",
       "5         none_user\n",
       "3    ganlui_de_prua\n",
       "2         data_drui\n",
       "Name: Username, dtype: object"
      ]
     },
     "execution_count": 41,
     "metadata": {},
     "output_type": "execute_result"
    }
   ],
   "source": [
    "username_series.sort_values(ascending=False)"
   ]
  }
 ],
 "metadata": {
  "kernelspec": {
   "display_name": "Python 3 (ipykernel)",
   "language": "python",
   "name": "python3"
  },
  "language_info": {
   "codemirror_mode": {
    "name": "ipython",
    "version": 3
   },
   "file_extension": ".py",
   "mimetype": "text/x-python",
   "name": "python",
   "nbconvert_exporter": "python",
   "pygments_lexer": "ipython3",
   "version": "3.9.13"
  }
 },
 "nbformat": 4,
 "nbformat_minor": 5
}
