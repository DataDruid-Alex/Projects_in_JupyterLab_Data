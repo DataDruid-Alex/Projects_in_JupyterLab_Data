{
 "cells": [
  {
   "cell_type": "markdown",
   "id": "037ab5e2-e5eb-4cd9-b9d7-0519caa821b9",
   "metadata": {
    "tags": []
   },
   "source": [
    "# First Notebook"
   ]
  },
  {
   "cell_type": "markdown",
   "id": "1f978f74-ad3d-4092-9e4d-76426aa05808",
   "metadata": {
    "jp-MarkdownHeadingCollapsed": true,
    "tags": []
   },
   "source": [
    "## First Section"
   ]
  },
  {
   "cell_type": "code",
   "execution_count": 1,
   "id": "70939b33",
   "metadata": {},
   "outputs": [
    {
     "data": {
      "text/plain": [
       "12"
      ]
     },
     "execution_count": 1,
     "metadata": {},
     "output_type": "execute_result"
    }
   ],
   "source": [
    "10+2"
   ]
  },
  {
   "cell_type": "markdown",
   "id": "05bedca0",
   "metadata": {
    "tags": []
   },
   "source": [
    "### Press a add cell above"
   ]
  },
  {
   "cell_type": "markdown",
   "id": "f92d6298",
   "metadata": {},
   "source": [
    "### Press  d delete cell"
   ]
  },
  {
   "cell_type": "markdown",
   "id": "130c9288",
   "metadata": {},
   "source": [
    "### Press b add cell below"
   ]
  },
  {
   "cell_type": "code",
   "execution_count": 9,
   "id": "ec58b7e9",
   "metadata": {},
   "outputs": [
    {
     "data": {
      "text/plain": [
       "'Sparrow'"
      ]
     },
     "execution_count": 9,
     "metadata": {},
     "output_type": "execute_result"
    }
   ],
   "source": [
    "my_surname"
   ]
  },
  {
   "cell_type": "code",
   "execution_count": 4,
   "id": "9d951cc1",
   "metadata": {},
   "outputs": [
    {
     "data": {
      "text/plain": [
       "'Satunin'"
      ]
     },
     "execution_count": 4,
     "metadata": {},
     "output_type": "execute_result"
    }
   ],
   "source": [
    "'Satunin'"
   ]
  },
  {
   "cell_type": "code",
   "execution_count": 6,
   "id": "546708de",
   "metadata": {},
   "outputs": [
    {
     "data": {
      "text/plain": [
       "'Satunin'"
      ]
     },
     "execution_count": 6,
     "metadata": {},
     "output_type": "execute_result"
    }
   ],
   "source": [
    "my_surname='Satunin'\n",
    "my_surname"
   ]
  },
  {
   "cell_type": "code",
   "execution_count": 7,
   "id": "5778a786",
   "metadata": {},
   "outputs": [
    {
     "name": "stdout",
     "output_type": "stream",
     "text": [
      "Satunin\n"
     ]
    }
   ],
   "source": [
    "print(my_surname)"
   ]
  },
  {
   "cell_type": "code",
   "execution_count": 8,
   "id": "0e1b1bbd",
   "metadata": {},
   "outputs": [
    {
     "data": {
      "text/plain": [
       "'Sparrow'"
      ]
     },
     "execution_count": 8,
     "metadata": {},
     "output_type": "execute_result"
    }
   ],
   "source": [
    "my_surname='Sparrow'\n",
    "my_surname"
   ]
  },
  {
   "cell_type": "code",
   "execution_count": 1,
   "id": "c31b1500-a57f-48ca-a7c7-df4739fca1f9",
   "metadata": {},
   "outputs": [],
   "source": [
    "my_name='Oleksandr'"
   ]
  },
  {
   "cell_type": "markdown",
   "id": "70ee6b5b-d7c8-4bcf-b9eb-cd4cce8d53a5",
   "metadata": {
    "tags": []
   },
   "source": [
    "## Second Section"
   ]
  },
  {
   "cell_type": "code",
   "execution_count": 3,
   "id": "645d5609-4487-46cf-a4ec-d101c112bb8f",
   "metadata": {},
   "outputs": [
    {
     "data": {
      "text/plain": [
       "'My name is Oleksandr'"
      ]
     },
     "execution_count": 3,
     "metadata": {},
     "output_type": "execute_result"
    }
   ],
   "source": [
    "f'My name is {my_name}'"
   ]
  },
  {
   "cell_type": "code",
   "execution_count": null,
   "id": "4d609b68-9ce2-4715-9613-813dcc1da37c",
   "metadata": {},
   "outputs": [],
   "source": []
  }
 ],
 "metadata": {
  "kernelspec": {
   "display_name": "Python 3 (ipykernel)",
   "language": "python",
   "name": "python3"
  },
  "language_info": {
   "codemirror_mode": {
    "name": "ipython",
    "version": 3
   },
   "file_extension": ".py",
   "mimetype": "text/x-python",
   "name": "python",
   "nbconvert_exporter": "python",
   "pygments_lexer": "ipython3",
   "version": "3.9.13"
  }
 },
 "nbformat": 4,
 "nbformat_minor": 5
}
