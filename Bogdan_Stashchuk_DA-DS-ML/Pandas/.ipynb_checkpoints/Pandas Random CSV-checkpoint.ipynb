{
 "cells": [
  {
   "cell_type": "code",
   "execution_count": 92,
   "id": "db7e6d33-aafc-4d26-9908-a6b8433daab1",
   "metadata": {},
   "outputs": [],
   "source": [
    "import pandas as pd\n",
    "import numpy as np\n",
    "import matplotlib.pyplot as plt"
   ]
  },
  {
   "cell_type": "code",
   "execution_count": 93,
   "id": "2d3465e9-a300-4691-9cc3-5898d7b97a2b",
   "metadata": {},
   "outputs": [],
   "source": [
    "np.random.seed(1)\n",
    "n=100\n",
    "dates=pd.date_range(start='2050-01-01',periods=n,freq='D')\n",
    "# dates\n",
    "products=np.random.choice(['Table','Camera','Phone','Microphone','Keyboard'],n)\n",
    "# products\n",
    "prices=np.round(np.random.uniform(50.0,200.,n),2)\n",
    "#prices\n",
    "quantities=np.random.randint(1,15,n)\n",
    "#quantities"
   ]
  },
  {
   "cell_type": "code",
   "execution_count": 94,
   "id": "dc67d46a-5741-49e7-be2e-95337ff68ce7",
   "metadata": {},
   "outputs": [
    {
     "data": {
      "text/plain": [
       "{'Date': DatetimeIndex(['2050-01-01', '2050-01-02', '2050-01-03', '2050-01-04',\n",
       "                '2050-01-05', '2050-01-06', '2050-01-07', '2050-01-08',\n",
       "                '2050-01-09', '2050-01-10', '2050-01-11', '2050-01-12',\n",
       "                '2050-01-13', '2050-01-14', '2050-01-15', '2050-01-16',\n",
       "                '2050-01-17', '2050-01-18', '2050-01-19', '2050-01-20',\n",
       "                '2050-01-21', '2050-01-22', '2050-01-23', '2050-01-24',\n",
       "                '2050-01-25', '2050-01-26', '2050-01-27', '2050-01-28',\n",
       "                '2050-01-29', '2050-01-30', '2050-01-31', '2050-02-01',\n",
       "                '2050-02-02', '2050-02-03', '2050-02-04', '2050-02-05',\n",
       "                '2050-02-06', '2050-02-07', '2050-02-08', '2050-02-09',\n",
       "                '2050-02-10', '2050-02-11', '2050-02-12', '2050-02-13',\n",
       "                '2050-02-14', '2050-02-15', '2050-02-16', '2050-02-17',\n",
       "                '2050-02-18', '2050-02-19', '2050-02-20', '2050-02-21',\n",
       "                '2050-02-22', '2050-02-23', '2050-02-24', '2050-02-25',\n",
       "                '2050-02-26', '2050-02-27', '2050-02-28', '2050-03-01',\n",
       "                '2050-03-02', '2050-03-03', '2050-03-04', '2050-03-05',\n",
       "                '2050-03-06', '2050-03-07', '2050-03-08', '2050-03-09',\n",
       "                '2050-03-10', '2050-03-11', '2050-03-12', '2050-03-13',\n",
       "                '2050-03-14', '2050-03-15', '2050-03-16', '2050-03-17',\n",
       "                '2050-03-18', '2050-03-19', '2050-03-20', '2050-03-21',\n",
       "                '2050-03-22', '2050-03-23', '2050-03-24', '2050-03-25',\n",
       "                '2050-03-26', '2050-03-27', '2050-03-28', '2050-03-29',\n",
       "                '2050-03-30', '2050-03-31', '2050-04-01', '2050-04-02',\n",
       "                '2050-04-03', '2050-04-04', '2050-04-05', '2050-04-06',\n",
       "                '2050-04-07', '2050-04-08', '2050-04-09', '2050-04-10'],\n",
       "               dtype='datetime64[ns]', freq='D'),\n",
       " 'Product': array(['Microphone', 'Keyboard', 'Table', 'Camera', 'Microphone', 'Table',\n",
       "        'Table', 'Camera', 'Keyboard', 'Keyboard', 'Camera', 'Phone',\n",
       "        'Keyboard', 'Phone', 'Keyboard', 'Microphone', 'Keyboard', 'Phone',\n",
       "        'Keyboard', 'Phone', 'Keyboard', 'Camera', 'Camera', 'Table',\n",
       "        'Camera', 'Camera', 'Camera', 'Camera', 'Table', 'Keyboard',\n",
       "        'Camera', 'Table', 'Table', 'Microphone', 'Phone', 'Camera',\n",
       "        'Table', 'Microphone', 'Camera', 'Camera', 'Microphone',\n",
       "        'Keyboard', 'Table', 'Camera', 'Microphone', 'Keyboard', 'Phone',\n",
       "        'Keyboard', 'Table', 'Microphone', 'Camera', 'Phone', 'Table',\n",
       "        'Keyboard', 'Camera', 'Phone', 'Phone', 'Camera', 'Table',\n",
       "        'Camera', 'Microphone', 'Keyboard', 'Microphone', 'Camera',\n",
       "        'Microphone', 'Table', 'Table', 'Phone', 'Phone', 'Camera',\n",
       "        'Microphone', 'Keyboard', 'Phone', 'Table', 'Table', 'Camera',\n",
       "        'Camera', 'Microphone', 'Table', 'Table', 'Keyboard', 'Phone',\n",
       "        'Keyboard', 'Microphone', 'Microphone', 'Table', 'Microphone',\n",
       "        'Keyboard', 'Microphone', 'Keyboard', 'Keyboard', 'Keyboard',\n",
       "        'Camera', 'Table', 'Keyboard', 'Phone', 'Table', 'Phone',\n",
       "        'Keyboard', 'Camera'], dtype='<U10'),\n",
       " 'Price': array([147.16, 103.09, 164.48, 103.48, 162.92, 182.2 ,  51.75, 124.72,\n",
       "         61.07, 168.04,  59.61, 103.3 , 191.28, 106.97, 164.44, 165.74,\n",
       "         95.2 , 165.91,  72.94, 136.8 ,  51.35, 156.36, 120.6 , 164.69,\n",
       "        120.11,  90.35, 174.75, 132.7 ,  60.51, 120.87, 161.41,  78.79,\n",
       "        119.65,  84.55, 126.24,  81.29,  57.4 , 127.83,  75.84, 109.45,\n",
       "         66.1 , 126.47,  65.32,  93.31,  84.76, 195.15,  91.75,  85.04,\n",
       "         63.73, 135.51, 112.69, 105.18, 171.95,  93.46, 157.61, 141.94,\n",
       "        114.04, 162.78, 114.17, 114.26, 104.29,  73.  , 190.58, 187.46,\n",
       "        167.29, 142.45,  55.4 , 148.15,  69.47,  94.15, 104.12,  91.2 ,\n",
       "         61.1 ,  72.82,  74.24, 190.81, 105.67,  57.5 , 161.14,  94.8 ,\n",
       "         80.65, 197.26, 183.95, 163.9 , 147.67,  55.95, 172.08, 164.39,\n",
       "        118.29, 129.77,  66.4 ,  71.9 , 126.32,  82.35, 187.47, 119.32,\n",
       "         69.84, 164.64,  81.91,  61.14]),\n",
       " 'Quantity': array([ 7, 10,  7,  1,  1,  3, 13, 10,  7,  1,  7,  8,  1,  4, 10,  1, 13,\n",
       "         4, 11, 12,  5,  8,  6, 13,  4,  9,  9,  1,  7,  8, 13, 14, 10,  6,\n",
       "         5, 10, 11,  6,  3, 14, 13,  6,  7, 12,  7, 13, 13,  9, 12, 11, 13,\n",
       "         8,  8,  8, 14, 12, 13,  3,  7, 12,  1, 14,  6,  3,  2, 12, 11,  9,\n",
       "         6, 10,  5, 10, 12, 12,  2,  3,  1, 11,  5,  8,  1,  7,  3,  5,  4,\n",
       "         7, 13,  8,  7,  4,  1, 14,  7, 14,  5,  8,  7,  3, 11, 13])}"
      ]
     },
     "execution_count": 94,
     "metadata": {},
     "output_type": "execute_result"
    }
   ],
   "source": [
    "data={\n",
    "    'Date':dates,\n",
    "    'Product':products,\n",
    "    \"Price\":prices,\n",
    "    \"Quantity\":quantities,\n",
    "}\n",
    "data"
   ]
  },
  {
   "cell_type": "code",
   "execution_count": 95,
   "id": "2d3e727c-4ec8-4e73-a68a-a314334c78f1",
   "metadata": {},
   "outputs": [
    {
     "data": {
      "text/html": [
       "<div>\n",
       "<style scoped>\n",
       "    .dataframe tbody tr th:only-of-type {\n",
       "        vertical-align: middle;\n",
       "    }\n",
       "\n",
       "    .dataframe tbody tr th {\n",
       "        vertical-align: top;\n",
       "    }\n",
       "\n",
       "    .dataframe thead th {\n",
       "        text-align: right;\n",
       "    }\n",
       "</style>\n",
       "<table border=\"1\" class=\"dataframe\">\n",
       "  <thead>\n",
       "    <tr style=\"text-align: right;\">\n",
       "      <th></th>\n",
       "      <th>Date</th>\n",
       "      <th>Product</th>\n",
       "      <th>Price</th>\n",
       "      <th>Quantity</th>\n",
       "    </tr>\n",
       "  </thead>\n",
       "  <tbody>\n",
       "    <tr>\n",
       "      <th>0</th>\n",
       "      <td>2050-01-01</td>\n",
       "      <td>Microphone</td>\n",
       "      <td>147.16</td>\n",
       "      <td>7</td>\n",
       "    </tr>\n",
       "    <tr>\n",
       "      <th>1</th>\n",
       "      <td>2050-01-02</td>\n",
       "      <td>Keyboard</td>\n",
       "      <td>103.09</td>\n",
       "      <td>10</td>\n",
       "    </tr>\n",
       "    <tr>\n",
       "      <th>2</th>\n",
       "      <td>2050-01-03</td>\n",
       "      <td>Table</td>\n",
       "      <td>164.48</td>\n",
       "      <td>7</td>\n",
       "    </tr>\n",
       "    <tr>\n",
       "      <th>3</th>\n",
       "      <td>2050-01-04</td>\n",
       "      <td>Camera</td>\n",
       "      <td>103.48</td>\n",
       "      <td>1</td>\n",
       "    </tr>\n",
       "    <tr>\n",
       "      <th>4</th>\n",
       "      <td>2050-01-05</td>\n",
       "      <td>Microphone</td>\n",
       "      <td>162.92</td>\n",
       "      <td>1</td>\n",
       "    </tr>\n",
       "    <tr>\n",
       "      <th>5</th>\n",
       "      <td>2050-01-06</td>\n",
       "      <td>Table</td>\n",
       "      <td>182.20</td>\n",
       "      <td>3</td>\n",
       "    </tr>\n",
       "    <tr>\n",
       "      <th>6</th>\n",
       "      <td>2050-01-07</td>\n",
       "      <td>Table</td>\n",
       "      <td>51.75</td>\n",
       "      <td>13</td>\n",
       "    </tr>\n",
       "    <tr>\n",
       "      <th>7</th>\n",
       "      <td>2050-01-08</td>\n",
       "      <td>Camera</td>\n",
       "      <td>124.72</td>\n",
       "      <td>10</td>\n",
       "    </tr>\n",
       "  </tbody>\n",
       "</table>\n",
       "</div>"
      ],
      "text/plain": [
       "        Date     Product   Price  Quantity\n",
       "0 2050-01-01  Microphone  147.16         7\n",
       "1 2050-01-02    Keyboard  103.09        10\n",
       "2 2050-01-03       Table  164.48         7\n",
       "3 2050-01-04      Camera  103.48         1\n",
       "4 2050-01-05  Microphone  162.92         1\n",
       "5 2050-01-06       Table  182.20         3\n",
       "6 2050-01-07       Table   51.75        13\n",
       "7 2050-01-08      Camera  124.72        10"
      ]
     },
     "execution_count": 95,
     "metadata": {},
     "output_type": "execute_result"
    }
   ],
   "source": [
    "df=pd.DataFrame(data)\n",
    "df.head(8)"
   ]
  },
  {
   "cell_type": "code",
   "execution_count": 96,
   "id": "72f24e51-67cb-46d3-8aae-8cf30e81f021",
   "metadata": {},
   "outputs": [
    {
     "data": {
      "text/plain": [
       "Date        datetime64[ns]\n",
       "Product             object\n",
       "Price              float64\n",
       "Quantity             int32\n",
       "dtype: object"
      ]
     },
     "execution_count": 96,
     "metadata": {},
     "output_type": "execute_result"
    }
   ],
   "source": [
    "df.dtypes"
   ]
  },
  {
   "cell_type": "code",
   "execution_count": 97,
   "id": "2c4950cf-3b8f-4026-b482-9b43ab3ee3bf",
   "metadata": {},
   "outputs": [],
   "source": [
    "df.to_csv(\"random_sales.csv\",index=False)"
   ]
  },
  {
   "cell_type": "code",
   "execution_count": 98,
   "id": "cd83892e-2ca9-4e0c-9588-528079282603",
   "metadata": {},
   "outputs": [
    {
     "data": {
      "text/html": [
       "<div>\n",
       "<style scoped>\n",
       "    .dataframe tbody tr th:only-of-type {\n",
       "        vertical-align: middle;\n",
       "    }\n",
       "\n",
       "    .dataframe tbody tr th {\n",
       "        vertical-align: top;\n",
       "    }\n",
       "\n",
       "    .dataframe thead th {\n",
       "        text-align: right;\n",
       "    }\n",
       "</style>\n",
       "<table border=\"1\" class=\"dataframe\">\n",
       "  <thead>\n",
       "    <tr style=\"text-align: right;\">\n",
       "      <th></th>\n",
       "      <th>Date</th>\n",
       "      <th>Product</th>\n",
       "      <th>Price</th>\n",
       "      <th>Quantity</th>\n",
       "    </tr>\n",
       "  </thead>\n",
       "  <tbody>\n",
       "    <tr>\n",
       "      <th>0</th>\n",
       "      <td>2050-01-01</td>\n",
       "      <td>Microphone</td>\n",
       "      <td>147.16</td>\n",
       "      <td>7</td>\n",
       "    </tr>\n",
       "    <tr>\n",
       "      <th>1</th>\n",
       "      <td>2050-01-02</td>\n",
       "      <td>Keyboard</td>\n",
       "      <td>103.09</td>\n",
       "      <td>10</td>\n",
       "    </tr>\n",
       "    <tr>\n",
       "      <th>2</th>\n",
       "      <td>2050-01-03</td>\n",
       "      <td>Table</td>\n",
       "      <td>164.48</td>\n",
       "      <td>7</td>\n",
       "    </tr>\n",
       "    <tr>\n",
       "      <th>3</th>\n",
       "      <td>2050-01-04</td>\n",
       "      <td>Camera</td>\n",
       "      <td>103.48</td>\n",
       "      <td>1</td>\n",
       "    </tr>\n",
       "    <tr>\n",
       "      <th>4</th>\n",
       "      <td>2050-01-05</td>\n",
       "      <td>Microphone</td>\n",
       "      <td>162.92</td>\n",
       "      <td>1</td>\n",
       "    </tr>\n",
       "    <tr>\n",
       "      <th>5</th>\n",
       "      <td>2050-01-06</td>\n",
       "      <td>Table</td>\n",
       "      <td>182.20</td>\n",
       "      <td>3</td>\n",
       "    </tr>\n",
       "    <tr>\n",
       "      <th>6</th>\n",
       "      <td>2050-01-07</td>\n",
       "      <td>Table</td>\n",
       "      <td>51.75</td>\n",
       "      <td>13</td>\n",
       "    </tr>\n",
       "    <tr>\n",
       "      <th>7</th>\n",
       "      <td>2050-01-08</td>\n",
       "      <td>Camera</td>\n",
       "      <td>124.72</td>\n",
       "      <td>10</td>\n",
       "    </tr>\n",
       "  </tbody>\n",
       "</table>\n",
       "</div>"
      ],
      "text/plain": [
       "         Date     Product   Price  Quantity\n",
       "0  2050-01-01  Microphone  147.16         7\n",
       "1  2050-01-02    Keyboard  103.09        10\n",
       "2  2050-01-03       Table  164.48         7\n",
       "3  2050-01-04      Camera  103.48         1\n",
       "4  2050-01-05  Microphone  162.92         1\n",
       "5  2050-01-06       Table  182.20         3\n",
       "6  2050-01-07       Table   51.75        13\n",
       "7  2050-01-08      Camera  124.72        10"
      ]
     },
     "execution_count": 98,
     "metadata": {},
     "output_type": "execute_result"
    }
   ],
   "source": [
    "df=pd.read_csv(\"random_sales.csv\")\n",
    "df.head(8)"
   ]
  },
  {
   "cell_type": "code",
   "execution_count": 99,
   "id": "1ea39d06-4a84-43dd-8c54-e96ce757d9bd",
   "metadata": {},
   "outputs": [
    {
     "data": {
      "text/plain": [
       "Date         object\n",
       "Product      object\n",
       "Price       float64\n",
       "Quantity      int64\n",
       "dtype: object"
      ]
     },
     "execution_count": 99,
     "metadata": {},
     "output_type": "execute_result"
    }
   ],
   "source": [
    "df.dtypes"
   ]
  },
  {
   "cell_type": "code",
   "execution_count": 100,
   "id": "b8e4bcae-72ab-404b-901b-0fd3c5189c45",
   "metadata": {},
   "outputs": [
    {
     "data": {
      "text/html": [
       "<div>\n",
       "<style scoped>\n",
       "    .dataframe tbody tr th:only-of-type {\n",
       "        vertical-align: middle;\n",
       "    }\n",
       "\n",
       "    .dataframe tbody tr th {\n",
       "        vertical-align: top;\n",
       "    }\n",
       "\n",
       "    .dataframe thead th {\n",
       "        text-align: right;\n",
       "    }\n",
       "</style>\n",
       "<table border=\"1\" class=\"dataframe\">\n",
       "  <thead>\n",
       "    <tr style=\"text-align: right;\">\n",
       "      <th></th>\n",
       "      <th>Date</th>\n",
       "      <th>Product</th>\n",
       "      <th>Price</th>\n",
       "      <th>Quantity</th>\n",
       "    </tr>\n",
       "  </thead>\n",
       "  <tbody>\n",
       "    <tr>\n",
       "      <th>0</th>\n",
       "      <td>2050-01-01</td>\n",
       "      <td>Microphone</td>\n",
       "      <td>147.16</td>\n",
       "      <td>7</td>\n",
       "    </tr>\n",
       "    <tr>\n",
       "      <th>1</th>\n",
       "      <td>2050-01-02</td>\n",
       "      <td>Keyboard</td>\n",
       "      <td>103.09</td>\n",
       "      <td>10</td>\n",
       "    </tr>\n",
       "    <tr>\n",
       "      <th>2</th>\n",
       "      <td>2050-01-03</td>\n",
       "      <td>Table</td>\n",
       "      <td>164.48</td>\n",
       "      <td>7</td>\n",
       "    </tr>\n",
       "    <tr>\n",
       "      <th>3</th>\n",
       "      <td>2050-01-04</td>\n",
       "      <td>Camera</td>\n",
       "      <td>103.48</td>\n",
       "      <td>1</td>\n",
       "    </tr>\n",
       "    <tr>\n",
       "      <th>4</th>\n",
       "      <td>2050-01-05</td>\n",
       "      <td>Microphone</td>\n",
       "      <td>162.92</td>\n",
       "      <td>1</td>\n",
       "    </tr>\n",
       "    <tr>\n",
       "      <th>5</th>\n",
       "      <td>2050-01-06</td>\n",
       "      <td>Table</td>\n",
       "      <td>182.20</td>\n",
       "      <td>3</td>\n",
       "    </tr>\n",
       "    <tr>\n",
       "      <th>6</th>\n",
       "      <td>2050-01-07</td>\n",
       "      <td>Table</td>\n",
       "      <td>51.75</td>\n",
       "      <td>13</td>\n",
       "    </tr>\n",
       "    <tr>\n",
       "      <th>7</th>\n",
       "      <td>2050-01-08</td>\n",
       "      <td>Camera</td>\n",
       "      <td>124.72</td>\n",
       "      <td>10</td>\n",
       "    </tr>\n",
       "  </tbody>\n",
       "</table>\n",
       "</div>"
      ],
      "text/plain": [
       "        Date     Product   Price  Quantity\n",
       "0 2050-01-01  Microphone  147.16         7\n",
       "1 2050-01-02    Keyboard  103.09        10\n",
       "2 2050-01-03       Table  164.48         7\n",
       "3 2050-01-04      Camera  103.48         1\n",
       "4 2050-01-05  Microphone  162.92         1\n",
       "5 2050-01-06       Table  182.20         3\n",
       "6 2050-01-07       Table   51.75        13\n",
       "7 2050-01-08      Camera  124.72        10"
      ]
     },
     "execution_count": 100,
     "metadata": {},
     "output_type": "execute_result"
    }
   ],
   "source": [
    "df=pd.read_csv(\"random_sales.csv\",parse_dates=['Date'])\n",
    "df.head(8)"
   ]
  },
  {
   "cell_type": "code",
   "execution_count": 101,
   "id": "d3167346-ee67-4ea7-b7fe-9969cfcf99e7",
   "metadata": {},
   "outputs": [
    {
     "data": {
      "text/plain": [
       "Date        datetime64[ns]\n",
       "Product             object\n",
       "Price              float64\n",
       "Quantity             int64\n",
       "dtype: object"
      ]
     },
     "execution_count": 101,
     "metadata": {},
     "output_type": "execute_result"
    }
   ],
   "source": [
    "df.dtypes"
   ]
  },
  {
   "cell_type": "code",
   "execution_count": 102,
   "id": "445b2131-57df-486e-a2a0-d5dfa6cf9326",
   "metadata": {},
   "outputs": [],
   "source": [
    "df.to_excel('random_sales_data.xlsx',index=False)"
   ]
  },
  {
   "cell_type": "code",
   "execution_count": 103,
   "id": "e1bd0208-477c-492a-a9cf-24a4cba4a380",
   "metadata": {},
   "outputs": [
    {
     "data": {
      "text/html": [
       "<div>\n",
       "<style scoped>\n",
       "    .dataframe tbody tr th:only-of-type {\n",
       "        vertical-align: middle;\n",
       "    }\n",
       "\n",
       "    .dataframe tbody tr th {\n",
       "        vertical-align: top;\n",
       "    }\n",
       "\n",
       "    .dataframe thead th {\n",
       "        text-align: right;\n",
       "    }\n",
       "</style>\n",
       "<table border=\"1\" class=\"dataframe\">\n",
       "  <thead>\n",
       "    <tr style=\"text-align: right;\">\n",
       "      <th></th>\n",
       "      <th>Date</th>\n",
       "      <th>Product</th>\n",
       "      <th>Price</th>\n",
       "      <th>Quantity</th>\n",
       "    </tr>\n",
       "  </thead>\n",
       "  <tbody>\n",
       "    <tr>\n",
       "      <th>0</th>\n",
       "      <td>2050-01-01</td>\n",
       "      <td>Microphone</td>\n",
       "      <td>147.16</td>\n",
       "      <td>7</td>\n",
       "    </tr>\n",
       "    <tr>\n",
       "      <th>1</th>\n",
       "      <td>2050-01-02</td>\n",
       "      <td>Keyboard</td>\n",
       "      <td>103.09</td>\n",
       "      <td>10</td>\n",
       "    </tr>\n",
       "    <tr>\n",
       "      <th>2</th>\n",
       "      <td>2050-01-03</td>\n",
       "      <td>Table</td>\n",
       "      <td>164.48</td>\n",
       "      <td>7</td>\n",
       "    </tr>\n",
       "    <tr>\n",
       "      <th>3</th>\n",
       "      <td>2050-01-04</td>\n",
       "      <td>Camera</td>\n",
       "      <td>103.48</td>\n",
       "      <td>1</td>\n",
       "    </tr>\n",
       "    <tr>\n",
       "      <th>4</th>\n",
       "      <td>2050-01-05</td>\n",
       "      <td>Microphone</td>\n",
       "      <td>162.92</td>\n",
       "      <td>1</td>\n",
       "    </tr>\n",
       "    <tr>\n",
       "      <th>5</th>\n",
       "      <td>2050-01-06</td>\n",
       "      <td>Table</td>\n",
       "      <td>182.20</td>\n",
       "      <td>3</td>\n",
       "    </tr>\n",
       "    <tr>\n",
       "      <th>6</th>\n",
       "      <td>2050-01-07</td>\n",
       "      <td>Table</td>\n",
       "      <td>51.75</td>\n",
       "      <td>13</td>\n",
       "    </tr>\n",
       "    <tr>\n",
       "      <th>7</th>\n",
       "      <td>2050-01-08</td>\n",
       "      <td>Camera</td>\n",
       "      <td>124.72</td>\n",
       "      <td>10</td>\n",
       "    </tr>\n",
       "  </tbody>\n",
       "</table>\n",
       "</div>"
      ],
      "text/plain": [
       "        Date     Product   Price  Quantity\n",
       "0 2050-01-01  Microphone  147.16         7\n",
       "1 2050-01-02    Keyboard  103.09        10\n",
       "2 2050-01-03       Table  164.48         7\n",
       "3 2050-01-04      Camera  103.48         1\n",
       "4 2050-01-05  Microphone  162.92         1\n",
       "5 2050-01-06       Table  182.20         3\n",
       "6 2050-01-07       Table   51.75        13\n",
       "7 2050-01-08      Camera  124.72        10"
      ]
     },
     "execution_count": 103,
     "metadata": {},
     "output_type": "execute_result"
    }
   ],
   "source": [
    "df=pd.read_excel('random_sales_data.xlsx')\n",
    "df.head(8)"
   ]
  },
  {
   "cell_type": "code",
   "execution_count": 104,
   "id": "eaf7f780-93b3-421d-8713-94f8bbabd1cf",
   "metadata": {},
   "outputs": [
    {
     "data": {
      "text/plain": [
       "Date        datetime64[ns]\n",
       "Product             object\n",
       "Price              float64\n",
       "Quantity             int64\n",
       "dtype: object"
      ]
     },
     "execution_count": 104,
     "metadata": {},
     "output_type": "execute_result"
    }
   ],
   "source": [
    "df.dtypes"
   ]
  },
  {
   "cell_type": "code",
   "execution_count": 105,
   "id": "bb9602c9-4704-4ed2-8361-aadac464650b",
   "metadata": {},
   "outputs": [],
   "source": [
    "df.to_json('random_sales_data.json')"
   ]
  },
  {
   "cell_type": "code",
   "execution_count": 106,
   "id": "6c1d7f8f-41c0-4c62-8d66-aada0ddbd5df",
   "metadata": {},
   "outputs": [
    {
     "data": {
      "text/html": [
       "<div>\n",
       "<style scoped>\n",
       "    .dataframe tbody tr th:only-of-type {\n",
       "        vertical-align: middle;\n",
       "    }\n",
       "\n",
       "    .dataframe tbody tr th {\n",
       "        vertical-align: top;\n",
       "    }\n",
       "\n",
       "    .dataframe thead th {\n",
       "        text-align: right;\n",
       "    }\n",
       "</style>\n",
       "<table border=\"1\" class=\"dataframe\">\n",
       "  <thead>\n",
       "    <tr style=\"text-align: right;\">\n",
       "      <th></th>\n",
       "      <th>Date</th>\n",
       "      <th>Product</th>\n",
       "      <th>Price</th>\n",
       "      <th>Quantity</th>\n",
       "    </tr>\n",
       "  </thead>\n",
       "  <tbody>\n",
       "    <tr>\n",
       "      <th>0</th>\n",
       "      <td>2050-01-01</td>\n",
       "      <td>Microphone</td>\n",
       "      <td>147.16</td>\n",
       "      <td>7</td>\n",
       "    </tr>\n",
       "    <tr>\n",
       "      <th>1</th>\n",
       "      <td>2050-01-02</td>\n",
       "      <td>Keyboard</td>\n",
       "      <td>103.09</td>\n",
       "      <td>10</td>\n",
       "    </tr>\n",
       "    <tr>\n",
       "      <th>2</th>\n",
       "      <td>2050-01-03</td>\n",
       "      <td>Table</td>\n",
       "      <td>164.48</td>\n",
       "      <td>7</td>\n",
       "    </tr>\n",
       "    <tr>\n",
       "      <th>3</th>\n",
       "      <td>2050-01-04</td>\n",
       "      <td>Camera</td>\n",
       "      <td>103.48</td>\n",
       "      <td>1</td>\n",
       "    </tr>\n",
       "    <tr>\n",
       "      <th>4</th>\n",
       "      <td>2050-01-05</td>\n",
       "      <td>Microphone</td>\n",
       "      <td>162.92</td>\n",
       "      <td>1</td>\n",
       "    </tr>\n",
       "    <tr>\n",
       "      <th>5</th>\n",
       "      <td>2050-01-06</td>\n",
       "      <td>Table</td>\n",
       "      <td>182.20</td>\n",
       "      <td>3</td>\n",
       "    </tr>\n",
       "    <tr>\n",
       "      <th>6</th>\n",
       "      <td>2050-01-07</td>\n",
       "      <td>Table</td>\n",
       "      <td>51.75</td>\n",
       "      <td>13</td>\n",
       "    </tr>\n",
       "    <tr>\n",
       "      <th>7</th>\n",
       "      <td>2050-01-08</td>\n",
       "      <td>Camera</td>\n",
       "      <td>124.72</td>\n",
       "      <td>10</td>\n",
       "    </tr>\n",
       "  </tbody>\n",
       "</table>\n",
       "</div>"
      ],
      "text/plain": [
       "        Date     Product   Price  Quantity\n",
       "0 2050-01-01  Microphone  147.16         7\n",
       "1 2050-01-02    Keyboard  103.09        10\n",
       "2 2050-01-03       Table  164.48         7\n",
       "3 2050-01-04      Camera  103.48         1\n",
       "4 2050-01-05  Microphone  162.92         1\n",
       "5 2050-01-06       Table  182.20         3\n",
       "6 2050-01-07       Table   51.75        13\n",
       "7 2050-01-08      Camera  124.72        10"
      ]
     },
     "execution_count": 106,
     "metadata": {},
     "output_type": "execute_result"
    }
   ],
   "source": [
    "df=pd.read_json('random_sales_data.json')\n",
    "df.head(8)"
   ]
  },
  {
   "cell_type": "code",
   "execution_count": 107,
   "id": "1a0ca3f3-0482-457f-972b-9a8a0ca88eea",
   "metadata": {},
   "outputs": [
    {
     "data": {
      "text/plain": [
       "Date        datetime64[ns]\n",
       "Product             object\n",
       "Price              float64\n",
       "Quantity             int64\n",
       "dtype: object"
      ]
     },
     "execution_count": 107,
     "metadata": {},
     "output_type": "execute_result"
    }
   ],
   "source": [
    "df.dtypes"
   ]
  },
  {
   "cell_type": "code",
   "execution_count": 108,
   "id": "5cf868bd-cf4f-455a-a190-046f1d5b62cf",
   "metadata": {},
   "outputs": [
    {
     "data": {
      "text/plain": [
       "(100, 4)"
      ]
     },
     "execution_count": 108,
     "metadata": {},
     "output_type": "execute_result"
    }
   ],
   "source": [
    "df.shape"
   ]
  },
  {
   "cell_type": "code",
   "execution_count": 109,
   "id": "9f1792e6-758f-4b0b-b39b-6f0bfd556546",
   "metadata": {},
   "outputs": [
    {
     "data": {
      "text/html": [
       "<div>\n",
       "<style scoped>\n",
       "    .dataframe tbody tr th:only-of-type {\n",
       "        vertical-align: middle;\n",
       "    }\n",
       "\n",
       "    .dataframe tbody tr th {\n",
       "        vertical-align: top;\n",
       "    }\n",
       "\n",
       "    .dataframe thead th {\n",
       "        text-align: right;\n",
       "    }\n",
       "</style>\n",
       "<table border=\"1\" class=\"dataframe\">\n",
       "  <thead>\n",
       "    <tr style=\"text-align: right;\">\n",
       "      <th></th>\n",
       "      <th>Price</th>\n",
       "      <th>Quantity</th>\n",
       "    </tr>\n",
       "  </thead>\n",
       "  <tbody>\n",
       "    <tr>\n",
       "      <th>count</th>\n",
       "      <td>100.00</td>\n",
       "      <td>100.00</td>\n",
       "    </tr>\n",
       "    <tr>\n",
       "      <th>mean</th>\n",
       "      <td>117.32</td>\n",
       "      <td>7.79</td>\n",
       "    </tr>\n",
       "    <tr>\n",
       "      <th>std</th>\n",
       "      <td>42.47</td>\n",
       "      <td>4.03</td>\n",
       "    </tr>\n",
       "    <tr>\n",
       "      <th>min</th>\n",
       "      <td>51.35</td>\n",
       "      <td>1.00</td>\n",
       "    </tr>\n",
       "    <tr>\n",
       "      <th>25%</th>\n",
       "      <td>81.13</td>\n",
       "      <td>5.00</td>\n",
       "    </tr>\n",
       "    <tr>\n",
       "      <th>50%</th>\n",
       "      <td>114.10</td>\n",
       "      <td>8.00</td>\n",
       "    </tr>\n",
       "    <tr>\n",
       "      <th>75%</th>\n",
       "      <td>161.21</td>\n",
       "      <td>11.25</td>\n",
       "    </tr>\n",
       "    <tr>\n",
       "      <th>max</th>\n",
       "      <td>197.26</td>\n",
       "      <td>14.00</td>\n",
       "    </tr>\n",
       "  </tbody>\n",
       "</table>\n",
       "</div>"
      ],
      "text/plain": [
       "        Price  Quantity\n",
       "count  100.00    100.00\n",
       "mean   117.32      7.79\n",
       "std     42.47      4.03\n",
       "min     51.35      1.00\n",
       "25%     81.13      5.00\n",
       "50%    114.10      8.00\n",
       "75%    161.21     11.25\n",
       "max    197.26     14.00"
      ]
     },
     "execution_count": 109,
     "metadata": {},
     "output_type": "execute_result"
    }
   ],
   "source": [
    "df.describe().round(2)"
   ]
  },
  {
   "cell_type": "code",
   "execution_count": 110,
   "id": "5e72f90f-0f88-41e7-a7f0-808de46d6dd9",
   "metadata": {},
   "outputs": [
    {
     "data": {
      "text/plain": [
       "array([[Timestamp('2050-01-01 00:00:00'), 'Microphone', 147.16, 7],\n",
       "       [Timestamp('2050-01-02 00:00:00'), 'Keyboard', 103.09, 10],\n",
       "       [Timestamp('2050-01-03 00:00:00'), 'Table', 164.48, 7],\n",
       "       [Timestamp('2050-01-04 00:00:00'), 'Camera', 103.48, 1],\n",
       "       [Timestamp('2050-01-05 00:00:00'), 'Microphone', 162.92, 1]],\n",
       "      dtype=object)"
      ]
     },
     "execution_count": 110,
     "metadata": {},
     "output_type": "execute_result"
    }
   ],
   "source": [
    "df.values[:5]"
   ]
  },
  {
   "cell_type": "code",
   "execution_count": 111,
   "id": "9e728ca1-7374-4848-976f-65f0dbf430d3",
   "metadata": {},
   "outputs": [
    {
     "data": {
      "text/plain": [
       "<pandas.core.groupby.generic.DataFrameGroupBy object at 0x000001D3CB8D2670>"
      ]
     },
     "execution_count": 111,
     "metadata": {},
     "output_type": "execute_result"
    }
   ],
   "source": [
    "df.groupby('Product')"
   ]
  },
  {
   "cell_type": "code",
   "execution_count": 112,
   "id": "aa48527e-856a-41da-9b10-c59fe9b35ca0",
   "metadata": {},
   "outputs": [
    {
     "data": {
      "text/plain": [
       "<pandas.core.groupby.generic.SeriesGroupBy object at 0x000001D3CB853D90>"
      ]
     },
     "execution_count": 112,
     "metadata": {},
     "output_type": "execute_result"
    }
   ],
   "source": [
    "df.groupby('Product')['Quantity']"
   ]
  },
  {
   "cell_type": "code",
   "execution_count": 113,
   "id": "6382850e-2846-4933-be12-92ded3f17c20",
   "metadata": {},
   "outputs": [
    {
     "data": {
      "text/plain": [
       "Product\n",
       "Camera        186\n",
       "Keyboard      173\n",
       "Microphone    106\n",
       "Phone         124\n",
       "Table         190\n",
       "Name: Quantity, dtype: int64"
      ]
     },
     "execution_count": 113,
     "metadata": {},
     "output_type": "execute_result"
    }
   ],
   "source": [
    "product_sales=df.groupby('Product')['Quantity'].sum()\n",
    "product_sales"
   ]
  },
  {
   "cell_type": "code",
   "execution_count": 114,
   "id": "d8f3f3b0-d796-4fd2-9462-135e989537ad",
   "metadata": {},
   "outputs": [
    {
     "data": {
      "text/html": [
       "<div>\n",
       "<style scoped>\n",
       "    .dataframe tbody tr th:only-of-type {\n",
       "        vertical-align: middle;\n",
       "    }\n",
       "\n",
       "    .dataframe tbody tr th {\n",
       "        vertical-align: top;\n",
       "    }\n",
       "\n",
       "    .dataframe thead th {\n",
       "        text-align: right;\n",
       "    }\n",
       "</style>\n",
       "<table border=\"1\" class=\"dataframe\">\n",
       "  <thead>\n",
       "    <tr style=\"text-align: right;\">\n",
       "      <th></th>\n",
       "      <th>Price</th>\n",
       "      <th>Quantity</th>\n",
       "    </tr>\n",
       "    <tr>\n",
       "      <th>Product</th>\n",
       "      <th></th>\n",
       "      <th></th>\n",
       "    </tr>\n",
       "  </thead>\n",
       "  <tbody>\n",
       "    <tr>\n",
       "      <th>Camera</th>\n",
       "      <td>121.54</td>\n",
       "      <td>7.75</td>\n",
       "    </tr>\n",
       "    <tr>\n",
       "      <th>Keyboard</th>\n",
       "      <td>115.61</td>\n",
       "      <td>7.52</td>\n",
       "    </tr>\n",
       "    <tr>\n",
       "      <th>Microphone</th>\n",
       "      <td>129.43</td>\n",
       "      <td>6.24</td>\n",
       "    </tr>\n",
       "    <tr>\n",
       "      <th>Phone</th>\n",
       "      <td>123.47</td>\n",
       "      <td>8.27</td>\n",
       "    </tr>\n",
       "    <tr>\n",
       "      <th>Table</th>\n",
       "      <td>100.17</td>\n",
       "      <td>9.05</td>\n",
       "    </tr>\n",
       "  </tbody>\n",
       "</table>\n",
       "</div>"
      ],
      "text/plain": [
       "             Price  Quantity\n",
       "Product                     \n",
       "Camera      121.54      7.75\n",
       "Keyboard    115.61      7.52\n",
       "Microphone  129.43      6.24\n",
       "Phone       123.47      8.27\n",
       "Table       100.17      9.05"
      ]
     },
     "execution_count": 114,
     "metadata": {},
     "output_type": "execute_result"
    }
   ],
   "source": [
    "df.groupby('Product').mean().round(2)"
   ]
  },
  {
   "cell_type": "code",
   "execution_count": 115,
   "id": "4fd25134-50e2-4ddc-94ad-be608bd3bf00",
   "metadata": {},
   "outputs": [
    {
     "data": {
      "text/plain": [
       "Product\n",
       "Camera        121.54\n",
       "Keyboard      115.61\n",
       "Microphone    129.43\n",
       "Phone         123.47\n",
       "Table         100.17\n",
       "Name: Price, dtype: float64"
      ]
     },
     "execution_count": 115,
     "metadata": {},
     "output_type": "execute_result"
    }
   ],
   "source": [
    "average_prices=df.groupby('Product')['Price'].mean().round(2)\n",
    "average_prices"
   ]
  },
  {
   "cell_type": "code",
   "execution_count": 116,
   "id": "bc1cecd7-203d-4b5a-a292-0957a57b701b",
   "metadata": {},
   "outputs": [
    {
     "data": {
      "image/png": "[encoded data removed]",
      "text/plain": [
       "<Figure size 640x480 with 1 Axes>"
      ]
     },
     "metadata": {},
     "output_type": "display_data"
    }
   ],
   "source": [
    "plt.bar(product_sales.index,product_sales.values,color=['blue','red','green','grey','purple'])\n",
    "plt.title(\"Total Sales per Product\")\n",
    "plt.xlabel('Product')\n",
    "plt.ylabel('Total Sales')\n",
    "plt.show()"
   ]
  },
  {
   "cell_type": "code",
   "execution_count": 117,
   "id": "64b94ac5-e422-44d4-9330-f1d487c66e58",
   "metadata": {},
   "outputs": [
    {
     "data": {
      "image/png": "[encoded data removed]",
      "text/plain": [
       "<Figure size 640x480 with 1 Axes>"
      ]
     },
     "metadata": {},
     "output_type": "display_data"
    }
   ],
   "source": [
    "plt.plot(average_prices.index,average_prices.values)\n",
    "plt.title(\"Average Price per Product\")\n",
    "plt.xlabel('Product')\n",
    "plt.ylabel('Average Price')\n",
    "plt.show()"
   ]
  }
 ],
 "metadata": {
  "kernelspec": {
   "display_name": "Python 3 (ipykernel)",
   "language": "python",
   "name": "python3"
  },
  "language_info": {
   "codemirror_mode": {
    "name": "ipython",
    "version": 3
   },
   "file_extension": ".py",
   "mimetype": "text/x-python",
   "name": "python",
   "nbconvert_exporter": "python",
   "pygments_lexer": "ipython3",
   "version": "3.9.13"
  }
 },
 "nbformat": 4,
 "nbformat_minor": 5
}
